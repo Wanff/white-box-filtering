{
 "cells": [
  {
   "cell_type": "code",
   "execution_count": 1,
   "metadata": {},
   "outputs": [],
   "source": [
    "import sys\n",
    "sys.path.append(\"../\")\n",
    "\n",
    "import torch \n",
    "\n",
    "from transformers import AutoModelForCausalLM, AutoTokenizer\n",
    "\n",
    "from white_box.model_wrapper import ModelWrapper\n",
    "from white_box.chat_model_utils import load_model_and_tokenizer, get_template, MODEL_CONFIGS\n",
    "\n",
    "%load_ext autoreload\n",
    "%autoreload 2"
   ]
  },
  {
   "cell_type": "code",
   "execution_count": 2,
   "metadata": {},
   "outputs": [
    {
     "data": {
      "application/vnd.jupyter.widget-view+json": {
       "model_id": "074fdc504cd6476a97964b6acec6f4ca",
       "version_major": 2,
       "version_minor": 0
      },
      "text/plain": [
       "Loading checkpoint shards:   0%|          | 0/2 [00:00<?, ?it/s]"
      ]
     },
     "metadata": {},
     "output_type": "display_data"
    },
    {
     "name": "stdout",
     "output_type": "stream",
     "text": [
      "Found Instruction template for llama2_7b\n",
      "{'description': 'Template used by Llama2 Chat', 'prompt': '[INST] {instruction} [/INST] '}\n"
     ]
    }
   ],
   "source": [
    "model_name = 'llama2_7b'\n",
    "model_config = MODEL_CONFIGS[model_name]\n",
    "\n",
    "model = AutoModelForCausalLM.from_pretrained(\"meta-llama/Llama-2-7b-chat-hf\", \n",
    "    torch_dtype=torch.float16, \n",
    "    device_map=\"auto\")\n",
    "\n",
    "tokenizer = AutoTokenizer.from_pretrained(\"meta-llama/Llama-2-7b-chat-hf\", padding_side = \"right\")\n",
    "tokenizer.pad_token = tokenizer.eos_token\n",
    "\n",
    "template = get_template(model_name, chat_template=model_config.get('chat_template', None))['prompt']\n",
    "mw = ModelWrapper(model, tokenizer, template = template)"
   ]
  },
  {
   "cell_type": "code",
   "execution_count": 29,
   "metadata": {},
   "outputs": [
    {
     "name": "stderr",
     "output_type": "stream",
     "text": [
      "100%|██████████| 1/1 [00:00<00:00,  2.12it/s]"
     ]
    },
    {
     "name": "stdout",
     "output_type": "stream",
     "text": [
      "tensor([[0, 0],\n",
      "        [1, 1]])\n",
      "tensor([[13, 14],\n",
      "        [15, 16]])\n"
     ]
    },
    {
     "name": "stderr",
     "output_type": "stream",
     "text": [
      "\n"
     ]
    }
   ],
   "source": [
    "\n",
    "test_tensor = mw.batch_hiddens([\"Hello, how are you?\", \"I am doing well, thank you.\"], tok_idxs = [-1, -2])['resid']"
   ]
  },
  {
   "cell_type": "code",
   "execution_count": 30,
   "metadata": {},
   "outputs": [],
   "source": [
    "prompts = [\"Hello, how are you?\", \"I am doing well, thank you.\"]\n",
    "\n",
    "formatted_prompts = [template.format(instruction=s) for s in prompts]\n",
    "inputs = tokenizer(formatted_prompts, return_tensors=\"pt\", padding=True, max_length=2048, truncation=True)\n",
    "\n",
    "res = model(**inputs, output_hidden_states = True)['hidden_states']\n",
    "hidden_states = torch.stack([r for r in res], dim=1)[:, 1:].float()"
   ]
  },
  {
   "cell_type": "code",
   "execution_count": 40,
   "metadata": {},
   "outputs": [],
   "source": [
    "first_prompt_state = hidden_states[0, :, tok_idxs - 2]\n",
    "sec_prompt_state = hidden_states[1, :, tok_idxs]\n",
    "\n",
    "assert torch.allclose(test_tensor[0], first_prompt_state)\n",
    "assert torch.allclose(test_tensor[1], sec_prompt_state)"
   ]
  },
  {
   "cell_type": "code",
   "execution_count": 34,
   "metadata": {},
   "outputs": [
    {
     "data": {
      "text/plain": [
       "torch.Size([32, 2, 4096])"
      ]
     },
     "execution_count": 34,
     "metadata": {},
     "output_type": "execute_result"
    }
   ],
   "source": [
    "test_tensor[0].shape"
   ]
  },
  {
   "cell_type": "code",
   "execution_count": 22,
   "metadata": {},
   "outputs": [
    {
     "data": {
      "text/plain": [
       "True"
      ]
     },
     "execution_count": 22,
     "metadata": {},
     "output_type": "execute_result"
    }
   ],
   "source": [
    "acts = torch.stack([r for r in res], dim=1)\n",
    "\n",
    "torch.allclose(acts[1, 1:, -1].float(), test_res['resid'][1, :, -1])"
   ]
  },
  {
   "cell_type": "code",
   "execution_count": 28,
   "metadata": {},
   "outputs": [
    {
     "data": {
      "text/plain": [
       "True"
      ]
     },
     "execution_count": 28,
     "metadata": {},
     "output_type": "execute_result"
    }
   ],
   "source": [
    "torch.allclose(acts[0, 1:, -3].float(), test_res['resid'][0, :, -1])"
   ]
  },
  {
   "cell_type": "code",
   "execution_count": 16,
   "metadata": {},
   "outputs": [
    {
     "name": "stdout",
     "output_type": "stream",
     "text": [
      "Found Instruction template for llama2_7b\n",
      "{'description': 'Template used by Llama2 Chat', 'prompt': '[INST] {instruction} [/INST] '}\n"
     ]
    },
    {
     "name": "stderr",
     "output_type": "stream",
     "text": [
      "100%|██████████| 1/1 [00:00<00:00,  2.87it/s]\n"
     ]
    }
   ],
   "source": [
    "from pytests.test_mw import _test_batch_hiddens\n",
    "prompts = [\"Hello, how are you?\", \"I am doing well, thank you.\"]\n",
    "\n",
    "_test_batch_hiddens(model, model_name, prompts, padding_side = \"left\", tok_idxs = [-1, -2, -3])"
   ]
  },
  {
   "cell_type": "code",
   "execution_count": 6,
   "metadata": {},
   "outputs": [
    {
     "ename": "ModuleNotFoundError",
     "evalue": "No module named 'tests.test_mw'",
     "output_type": "error",
     "traceback": [
      "\u001b[0;31m---------------------------------------------------------------------------\u001b[0m",
      "\u001b[0;31mModuleNotFoundError\u001b[0m                       Traceback (most recent call last)",
      "Cell \u001b[0;32mIn[6], line 3\u001b[0m\n\u001b[1;32m      1\u001b[0m \u001b[38;5;28;01mimport\u001b[39;00m \u001b[38;5;21;01msys\u001b[39;00m\n\u001b[1;32m      2\u001b[0m sys\u001b[38;5;241m.\u001b[39mpath\u001b[38;5;241m.\u001b[39mappend(\u001b[38;5;124m\"\u001b[39m\u001b[38;5;124m../\u001b[39m\u001b[38;5;124m\"\u001b[39m)\n\u001b[0;32m----> 3\u001b[0m \u001b[38;5;28;01mfrom\u001b[39;00m \u001b[38;5;21;01mtests\u001b[39;00m\u001b[38;5;21;01m.\u001b[39;00m\u001b[38;5;21;01mtest_mw\u001b[39;00m \u001b[38;5;28;01mimport\u001b[39;00m _test_batch_hiddens\n",
      "\u001b[0;31mModuleNotFoundError\u001b[0m: No module named 'tests.test_mw'"
     ]
    }
   ],
   "source": [
    "import sys\n",
    "sys.path.append(\"../\")\n",
    "from tests.test_mw import _test_batch_hiddens"
   ]
  },
  {
   "cell_type": "code",
   "execution_count": 49,
   "metadata": {},
   "outputs": [],
   "source": [
    "import tests"
   ]
  },
  {
   "cell_type": "code",
   "execution_count": 50,
   "metadata": {},
   "outputs": [
    {
     "data": {
      "text/plain": [
       "<module 'tests' from '/home/ubuntu/anaconda3/envs/white-box/lib/python3.11/site-packages/tests/__init__.py'>"
      ]
     },
     "execution_count": 50,
     "metadata": {},
     "output_type": "execute_result"
    }
   ],
   "source": [
    "tests"
   ]
  },
  {
   "cell_type": "code",
   "execution_count": 21,
   "metadata": {},
   "outputs": [
    {
     "name": "stdout",
     "output_type": "stream",
     "text": [
      "Original matrix:\n",
      "tensor([[10, 20, 30],\n",
      "        [40, 50, 60],\n",
      "        [70, 80, 90]])\n",
      "\n",
      "Indices:\n",
      "tensor([[0, 1],\n",
      "        [1, 2],\n",
      "        [0, 2]])\n",
      "\n",
      "Selected elements:\n",
      "tensor([[10, 20],\n",
      "        [50, 60],\n",
      "        [70, 90]])\n"
     ]
    }
   ],
   "source": [
    "import torch\n",
    "\n",
    "# Example data\n",
    "matrix = torch.tensor([[10, 20, 30],\n",
    "                       [40, 50, 60],\n",
    "                       [70, 80, 90]])\n",
    "\n",
    "# Index tensor\n",
    "indices = torch.tensor([[0, 1], [1, 2], [0, 2]])\n",
    "\n",
    "# Create batch indices\n",
    "batch_indices = torch.arange(matrix.shape[0]).unsqueeze(1).expand(-1, indices.shape[1])\n",
    "\n",
    "# Use advanced indexing to select the elements\n",
    "selected_elements = matrix[batch_indices, indices]\n",
    "\n",
    "print(\"Original matrix:\")\n",
    "print(matrix)\n",
    "print(\"\\nIndices:\")\n",
    "print(indices)\n",
    "print(\"\\nSelected elements:\")\n",
    "print(selected_elements)\n"
   ]
  },
  {
   "cell_type": "code",
   "execution_count": null,
   "metadata": {},
   "outputs": [],
   "source": []
  }
 ],
 "metadata": {
  "kernelspec": {
   "display_name": "white-box",
   "language": "python",
   "name": "python3"
  },
  "language_info": {
   "codemirror_mode": {
    "name": "ipython",
    "version": 3
   },
   "file_extension": ".py",
   "mimetype": "text/x-python",
   "name": "python",
   "nbconvert_exporter": "python",
   "pygments_lexer": "ipython3",
   "version": "3.11.8"
  }
 },
 "nbformat": 4,
 "nbformat_minor": 2
}
