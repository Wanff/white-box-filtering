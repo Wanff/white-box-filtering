{
 "cells": [
  {
   "cell_type": "code",
   "execution_count": 1,
   "metadata": {},
   "outputs": [
    {
     "name": "stderr",
     "output_type": "stream",
     "text": [
      "/home/ubuntu/anaconda3/envs/white-box/lib/python3.11/site-packages/tqdm/auto.py:21: TqdmWarning: IProgress not found. Please update jupyter and ipywidgets. See https://ipywidgets.readthedocs.io/en/stable/user_install.html\n",
      "  from .autonotebook import tqdm as notebook_tqdm\n"
     ]
    }
   ],
   "source": [
    "import numpy as np \n",
    "import torch \n",
    "import datasets\n",
    "from tqdm import tqdm \n",
    "import pickle \n",
    "import pandas as pd\n",
    "from datasets import load_dataset\n",
    "from typing import List, Dict, Any, Tuple, Union, Optional, Callable\n",
    "from dataclasses import dataclass\n",
    "from transformers import AutoTokenizer, AutoModelForCausalLM\n",
    "import sys\n",
    "sys.path.append('../') \n",
    "\n",
    "from white_box.model_wrapper import ModelWrapper\n",
    "from white_box.utils import gen_pile_data \n",
    "from white_box.dataset import clean_data \n",
    "\n",
    "%load_ext autoreload\n",
    "%autoreload 2"
   ]
  },
  {
   "cell_type": "code",
   "execution_count": 2,
   "metadata": {},
   "outputs": [
    {
     "name": "stderr",
     "output_type": "stream",
     "text": [
      "Special tokens have been added in the vocabulary, make sure the associated word embeddings are fine-tuned or trained.\n"
     ]
    }
   ],
   "source": [
    "model_name = \"EleutherAI/pythia-70m\"\n",
    "\n",
    "tokenizer = AutoTokenizer.from_pretrained(model_name)\n",
    "tokenizer.pad_token = tokenizer.eos_token\n",
    "model = AutoModelForCausalLM.from_pretrained(model_name)\n",
    "mw = ModelWrapper(model, tokenizer)"
   ]
  },
  {
   "cell_type": "markdown",
   "metadata": {},
   "source": [
    "### get prompts"
   ]
  },
  {
   "cell_type": "code",
   "execution_count": 3,
   "metadata": {},
   "outputs": [],
   "source": [
    "pile_data = gen_pile_data(N = 1000, tokenizer = tokenizer, min_n_toks = 64) #strings \n",
    "pythia_evals_data = load_dataset('EleutherAI/pythia-memorized-evals')['duped.70m'][:1000]['tokens'] #tokens"
   ]
  },
  {
   "cell_type": "code",
   "execution_count": 6,
   "metadata": {},
   "outputs": [],
   "source": [
    "cleaned_pile_toks, dirty_pile_dict = clean_data(pile_data, tokenizer, return_toks = True)\n",
    "cleaned_pythia_toks, dirty_pythia_dict = clean_data(pythia_evals_data, tokenizer, return_toks = True)"
   ]
  },
  {
   "cell_type": "code",
   "execution_count": 7,
   "metadata": {},
   "outputs": [
    {
     "data": {
      "text/plain": [
       "(953,\n",
       " 655,\n",
       " {'increment': 43,\n",
       "  'repeated_majority': 10,\n",
       "  'is_repeated_string': 25,\n",
       "  'repeats_subseq': 214})"
      ]
     },
     "execution_count": 7,
     "metadata": {},
     "output_type": "execute_result"
    }
   ],
   "source": [
    "len(cleaned_pile_toks), len(cleaned_pythia_toks), {k: len(v) for k,v in dirty_pythia_dict.items()}"
   ]
  },
  {
   "cell_type": "code",
   "execution_count": 15,
   "metadata": {},
   "outputs": [],
   "source": [
    "cleaned_pile_toks, cleaned_pythia_toks = cleaned_pile_toks[:500], cleaned_pythia_toks[:500]\n",
    "\n",
    "pickle.dump(cleaned_pile_toks, open('../data/pythia-70m/mem/pile.pkl', 'wb'))\n",
    "pickle.dump(cleaned_pythia_toks, open('../data/pythia-70m/mem/pythia_evals.pkl', 'wb'))"
   ]
  },
  {
   "cell_type": "markdown",
   "metadata": {},
   "source": [
    "### after getting activations, create dataset"
   ]
  },
  {
   "cell_type": "code",
   "execution_count": 3,
   "metadata": {},
   "outputs": [],
   "source": [
    "data_path = '../data/pythia-70m/mem/'\n",
    "file_spec = \"pile_\"\n",
    "pile_metadata = pd.read_csv(data_path + f'{file_spec}metadata.csv')\n",
    "pythia_evals_metadata = pd.read_csv(data_path + f'pythia_evals_metadata.csv')\n",
    "\n",
    "pile_states = torch.load(data_path + f'{file_spec}all_hidden_states.pt')\n",
    "pythia_states = torch.load(data_path + f'pythia_evals_all_hidden_states.pt')"
   ]
  },
  {
   "cell_type": "code",
   "execution_count": 42,
   "metadata": {},
   "outputs": [
    {
     "data": {
      "text/html": [
       "<div>\n",
       "<style scoped>\n",
       "    .dataframe tbody tr th:only-of-type {\n",
       "        vertical-align: middle;\n",
       "    }\n",
       "\n",
       "    .dataframe tbody tr th {\n",
       "        vertical-align: top;\n",
       "    }\n",
       "\n",
       "    .dataframe thead th {\n",
       "        text-align: right;\n",
       "    }\n",
       "</style>\n",
       "<table border=\"1\" class=\"dataframe\">\n",
       "  <thead>\n",
       "    <tr style=\"text-align: right;\">\n",
       "      <th></th>\n",
       "      <th>prompt_str</th>\n",
       "      <th>prompt_toks</th>\n",
       "      <th>gen_str</th>\n",
       "      <th>gen_toks</th>\n",
       "      <th>tok_by_tok_sim</th>\n",
       "      <th>char_by_char_sim</th>\n",
       "      <th>lev_distance</th>\n",
       "      <th>source</th>\n",
       "    </tr>\n",
       "  </thead>\n",
       "  <tbody>\n",
       "    <tr>\n",
       "      <th>0</th>\n",
       "      <td>---------------------- Forwarded by Benjamin R...</td>\n",
       "      <td>[23130, 25956, 264, 407, 19046, 22456, 16, 237...</td>\n",
       "      <td>---------------------- Forwarded by Benjamin R...</td>\n",
       "      <td>[23130, 25956, 264, 407, 19046, 22456, 16, 237...</td>\n",
       "      <td>0.593750</td>\n",
       "      <td>0.672316</td>\n",
       "      <td>0.780000</td>\n",
       "      <td>pile_</td>\n",
       "    </tr>\n",
       "    <tr>\n",
       "      <th>1</th>\n",
       "      <td>Menu\\n\\nWhat’s your WHY?\\n\\nWhat’s your WHY?! ...</td>\n",
       "      <td>[14324, 187, 187, 1276, 457, 84, 634, 7245, 58...</td>\n",
       "      <td>Menu\\n\\nWhat’s your WHY?\\n\\nWhat’s your WHY?! ...</td>\n",
       "      <td>[14324, 187, 187, 1276, 457, 84, 634, 7245, 58...</td>\n",
       "      <td>0.500000</td>\n",
       "      <td>0.414508</td>\n",
       "      <td>0.566667</td>\n",
       "      <td>pile_</td>\n",
       "    </tr>\n",
       "    <tr>\n",
       "      <th>2</th>\n",
       "      <td>Free peritoneal tumour cells are an independen...</td>\n",
       "      <td>[14344, 35948, 18258, 1341, 403, 271, 3907, 18...</td>\n",
       "      <td>Free peritoneal tumour cells are an independen...</td>\n",
       "      <td>[14344, 35948, 18258, 1341, 403, 271, 3907, 18...</td>\n",
       "      <td>0.531250</td>\n",
       "      <td>0.595611</td>\n",
       "      <td>0.659517</td>\n",
       "      <td>pile_</td>\n",
       "    </tr>\n",
       "    <tr>\n",
       "      <th>3</th>\n",
       "      <td>Q:\\n\\nNot able to find element by partial link...</td>\n",
       "      <td>[50, 27, 187, 187, 3650, 2104, 281, 1089, 3284...</td>\n",
       "      <td>Q:\\n\\nNot able to find element by partial link...</td>\n",
       "      <td>[50, 27, 187, 187, 3650, 2104, 281, 1089, 3284...</td>\n",
       "      <td>0.515625</td>\n",
       "      <td>0.537572</td>\n",
       "      <td>0.598131</td>\n",
       "      <td>pile_</td>\n",
       "    </tr>\n",
       "    <tr>\n",
       "      <th>4</th>\n",
       "      <td>Q:\\n\\nhighcharts redraw and reflow not working...</td>\n",
       "      <td>[50, 27, 187, 187, 8656, 45945, 2502, 2040, 28...</td>\n",
       "      <td>Q:\\n\\nhighcharts redraw and reflow not working...</td>\n",
       "      <td>[50, 27, 187, 187, 8656, 45945, 2502, 2040, 28...</td>\n",
       "      <td>0.500000</td>\n",
       "      <td>0.509709</td>\n",
       "      <td>0.583012</td>\n",
       "      <td>pile_</td>\n",
       "    </tr>\n",
       "  </tbody>\n",
       "</table>\n",
       "</div>"
      ],
      "text/plain": [
       "                                          prompt_str  \\\n",
       "0  ---------------------- Forwarded by Benjamin R...   \n",
       "1  Menu\\n\\nWhat’s your WHY?\\n\\nWhat’s your WHY?! ...   \n",
       "2  Free peritoneal tumour cells are an independen...   \n",
       "3  Q:\\n\\nNot able to find element by partial link...   \n",
       "4  Q:\\n\\nhighcharts redraw and reflow not working...   \n",
       "\n",
       "                                         prompt_toks  \\\n",
       "0  [23130, 25956, 264, 407, 19046, 22456, 16, 237...   \n",
       "1  [14324, 187, 187, 1276, 457, 84, 634, 7245, 58...   \n",
       "2  [14344, 35948, 18258, 1341, 403, 271, 3907, 18...   \n",
       "3  [50, 27, 187, 187, 3650, 2104, 281, 1089, 3284...   \n",
       "4  [50, 27, 187, 187, 8656, 45945, 2502, 2040, 28...   \n",
       "\n",
       "                                             gen_str  \\\n",
       "0  ---------------------- Forwarded by Benjamin R...   \n",
       "1  Menu\\n\\nWhat’s your WHY?\\n\\nWhat’s your WHY?! ...   \n",
       "2  Free peritoneal tumour cells are an independen...   \n",
       "3  Q:\\n\\nNot able to find element by partial link...   \n",
       "4  Q:\\n\\nhighcharts redraw and reflow not working...   \n",
       "\n",
       "                                            gen_toks  tok_by_tok_sim  \\\n",
       "0  [23130, 25956, 264, 407, 19046, 22456, 16, 237...        0.593750   \n",
       "1  [14324, 187, 187, 1276, 457, 84, 634, 7245, 58...        0.500000   \n",
       "2  [14344, 35948, 18258, 1341, 403, 271, 3907, 18...        0.531250   \n",
       "3  [50, 27, 187, 187, 3650, 2104, 281, 1089, 3284...        0.515625   \n",
       "4  [50, 27, 187, 187, 8656, 45945, 2502, 2040, 28...        0.500000   \n",
       "\n",
       "   char_by_char_sim  lev_distance source  \n",
       "0          0.672316      0.780000  pile_  \n",
       "1          0.414508      0.566667  pile_  \n",
       "2          0.595611      0.659517  pile_  \n",
       "3          0.537572      0.598131  pile_  \n",
       "4          0.509709      0.583012  pile_  "
      ]
     },
     "execution_count": 42,
     "metadata": {},
     "output_type": "execute_result"
    }
   ],
   "source": [
    "pile_metadata.head()"
   ]
  },
  {
   "cell_type": "code",
   "execution_count": 4,
   "metadata": {},
   "outputs": [],
   "source": [
    "@dataclass\n",
    "class PromptDist:\n",
    "    idxs : List[int]\n",
    "    path_to_states : str\n",
    "    path_to_metadata : str\n",
    "\n",
    "def create_prompt_dist_from_metadata(metadata : pd.DataFrame, \n",
    "                                     path_to_states : str, \n",
    "                                     path_to_metadata : str,\n",
    "                                     condition : Callable,\n",
    "                                     col_name : str = 'tok_by_tok_sim',\n",
    "                                     ) -> PromptDist:\n",
    "    idxs = metadata[condition(metadata[col_name])].index.tolist()\n",
    "    return PromptDist(idxs = idxs, path_to_states = path_to_states, path_to_metadata = path_to_metadata)\n",
    "\n",
    "def less_than_60_percent(x):\n",
    "    return x < 0.6\n",
    "\n",
    "def equal_one(x):\n",
    "    return x == 1\n",
    "\n",
    "neg_pythia_evals = create_prompt_dist_from_metadata(pythia_evals_metadata, \n",
    "                                                    data_path + 'pythia_evals_all_hidden_states.pt', \n",
    "                                                    data_path + 'pythia_evals_metadata.csv', less_than_60_percent)\n",
    "pos_pythia_evals = create_prompt_dist_from_metadata(pythia_evals_metadata,\n",
    "                                                    data_path + 'pythia_evals_all_hidden_states.pt', \n",
    "                                                    data_path + 'pythia_evals_metadata.csv', equal_one)\n",
    "\n",
    "neg_pile = create_prompt_dist_from_metadata(pile_metadata,\n",
    "                                             data_path + 'pile_all_hidden_states.pt',\n",
    "                                             data_path + 'pile_metadata.csv', less_than_60_percent)\n",
    "\n",
    "pos_pile = create_prompt_dist_from_metadata(pile_metadata,\n",
    "                                            data_path + 'pile_all_hidden_states.pt',\n",
    "                                            data_path + 'pile_metadata.csv', equal_one)"
   ]
  },
  {
   "cell_type": "code",
   "execution_count": 19,
   "metadata": {},
   "outputs": [
    {
     "data": {
      "text/plain": [
       "45"
      ]
     },
     "execution_count": 19,
     "metadata": {},
     "output_type": "execute_result"
    }
   ],
   "source": [
    "def between_90_and_100(x):\n",
    "    return (0.9 <= x) & (x < 1)\n",
    "\n",
    "fuzzy_pos_pythia_evals = create_prompt_dist_from_metadata(pythia_evals_metadata,\n",
    "                                                            data_path + 'pythia_evals_all_hidden_states.pt',\n",
    "                                                            data_path + 'pythia_evals_metadata.csv', between_90_and_100)\n",
    "len(fuzzy_pos_pythia_evals.idxs)\n"
   ]
  },
  {
   "cell_type": "code",
   "execution_count": 20,
   "metadata": {},
   "outputs": [
    {
     "data": {
      "application/vnd.plotly.v1+json": {
       "config": {
        "plotlyServerURL": "https://plot.ly"
       },
       "data": [
        {
         "alignmentgroup": "True",
         "bingroup": "x",
         "hovertemplate": "variable=tok_by_tok_sim<br>value=%{x}<br>count=%{y}<extra></extra>",
         "legendgroup": "tok_by_tok_sim",
         "marker": {
          "color": "#636efa",
          "pattern": {
           "shape": ""
          }
         },
         "name": "tok_by_tok_sim",
         "offsetgroup": "tok_by_tok_sim",
         "orientation": "v",
         "showlegend": true,
         "type": "histogram",
         "x": [
          1,
          0.59375,
          0.578125,
          1,
          1,
          1,
          1,
          0.6875,
          1,
          1,
          1,
          1,
          1,
          0.859375,
          0.703125,
          1,
          1,
          0.984375,
          1,
          1,
          1,
          0.8125,
          1,
          1,
          1,
          1,
          1,
          1,
          1,
          0.5625,
          1,
          1,
          1,
          0.59375,
          0.578125,
          0.984375,
          1,
          0.953125,
          1,
          1,
          1,
          0.609375,
          1,
          0.53125,
          1,
          0.625,
          1,
          0.5,
          1,
          0.609375,
          1,
          1,
          0.953125,
          0.5,
          1,
          0.9375,
          1,
          1,
          0.671875,
          0.515625,
          1,
          1,
          1,
          1,
          1,
          1,
          1,
          0.640625,
          0.953125,
          0.609375,
          1,
          1,
          0.984375,
          0.71875,
          1,
          1,
          0.53125,
          1,
          1,
          1,
          0.984375,
          0.90625,
          0.96875,
          1,
          1,
          1,
          1,
          1,
          1,
          1,
          1,
          0.90625,
          1,
          1,
          1,
          1,
          1,
          1,
          1,
          0.953125,
          1,
          1,
          0.8125,
          0.9375,
          1,
          0.984375,
          1,
          0.703125,
          1,
          1,
          0.609375,
          1,
          1,
          1,
          1,
          1,
          1,
          1,
          1,
          0.671875,
          0.96875,
          1,
          1,
          1,
          1,
          1,
          0.59375,
          0.5625,
          1,
          0.984375,
          1,
          1,
          0.953125,
          0.78125,
          1,
          1,
          1,
          1,
          0.5625,
          1,
          0.984375,
          0.828125,
          1,
          0.875,
          0.71875,
          1,
          1,
          1,
          1,
          1,
          0.53125,
          0.6875,
          1,
          0.6875,
          1,
          1,
          0.953125,
          1,
          1,
          0.90625,
          1,
          1,
          0.578125,
          0.859375,
          1,
          1,
          0.984375,
          0.96875,
          0.609375,
          1,
          1,
          0.6875,
          1,
          1,
          0.90625,
          1,
          0.765625,
          1,
          1,
          0.984375,
          1,
          1,
          1,
          1,
          1,
          1,
          1,
          1,
          1,
          0.65625,
          1,
          1,
          0.703125,
          1,
          1,
          1,
          1,
          1,
          1,
          1,
          0.65625,
          1,
          1,
          1,
          1,
          1,
          0.875,
          0.96875,
          1,
          1,
          1,
          0.5,
          1,
          0.53125,
          1,
          1,
          0.515625,
          1,
          0.859375,
          1,
          1,
          0.75,
          1,
          0.671875,
          1,
          1,
          1,
          1,
          1,
          1,
          1,
          1,
          1,
          1,
          1,
          0.8125,
          0.96875,
          1,
          1,
          0.53125,
          0.75,
          0.53125,
          1,
          1,
          1,
          1,
          1,
          0.953125,
          1,
          0.796875,
          1,
          1,
          1,
          1,
          1,
          1,
          1,
          0.53125,
          1,
          1,
          1,
          0.578125,
          1,
          1,
          1,
          0.90625,
          0.859375,
          1,
          1,
          1,
          1,
          0.515625,
          1,
          1,
          1,
          1,
          1,
          1,
          1,
          1,
          0.53125,
          1,
          0.5,
          0.75,
          0.53125,
          1,
          1,
          1,
          1,
          1,
          1,
          1,
          1,
          1,
          1,
          1,
          0.59375,
          0.609375,
          0.984375,
          0.65625,
          0.546875,
          0.96875,
          1,
          0.9375,
          0.734375,
          1,
          1,
          1,
          1,
          1,
          0.75,
          0.5,
          0.53125,
          0.53125,
          1,
          1,
          0.875,
          1,
          1,
          0.953125,
          1,
          1,
          0.84375,
          1,
          0.5625,
          1,
          1,
          0.65625,
          1,
          1,
          1,
          1,
          0.578125,
          1,
          1,
          0.9375,
          1,
          1,
          0.609375,
          1,
          1,
          1,
          0.953125,
          0.515625,
          0.671875,
          1,
          1,
          0.546875,
          1,
          1,
          1,
          0.84375,
          0.5,
          0.953125,
          0.828125,
          1,
          1,
          0.515625,
          0.59375,
          1,
          1,
          1,
          0.984375,
          1,
          1,
          1,
          0.71875,
          1,
          1,
          1,
          1,
          1,
          1,
          0.75,
          1,
          1,
          1,
          0.5,
          0.78125,
          0.609375,
          1,
          1,
          1,
          1,
          1,
          1,
          0.921875,
          0.859375,
          1,
          1,
          1,
          1,
          1,
          1,
          1,
          1,
          1,
          0.96875,
          0.5,
          1,
          1,
          1,
          0.6875,
          1,
          1,
          0.984375,
          0.515625,
          1,
          0.734375,
          0.828125,
          1,
          1,
          0.984375,
          1,
          1,
          0.5,
          1,
          0.546875,
          0.5625,
          0.953125,
          0.5625,
          1,
          0.96875,
          1,
          1,
          1,
          1,
          1,
          0.578125,
          0.953125,
          1,
          1,
          0.515625,
          1,
          1,
          0.65625,
          1,
          1,
          1,
          1,
          1,
          1,
          0.578125,
          0.953125,
          1,
          1,
          0.640625,
          0.8125,
          1,
          0.84375,
          1,
          1,
          0.75,
          1,
          1,
          1,
          1,
          1,
          0.5625,
          1,
          1,
          0.84375,
          1,
          1,
          1,
          1,
          1,
          1,
          1,
          1,
          0.5625,
          1,
          0.765625,
          1,
          0.515625,
          1,
          0.953125,
          1,
          1,
          0.578125,
          1,
          1,
          1,
          0.515625,
          1,
          1,
          1,
          0.859375,
          1,
          1,
          1,
          1,
          1,
          1,
          1,
          0.625,
          1,
          1,
          0.765625,
          1
         ],
         "xaxis": "x",
         "yaxis": "y"
        }
       ],
       "layout": {
        "barmode": "relative",
        "legend": {
         "title": {
          "text": "variable"
         },
         "tracegroupgap": 0
        },
        "template": {
         "data": {
          "bar": [
           {
            "error_x": {
             "color": "#2a3f5f"
            },
            "error_y": {
             "color": "#2a3f5f"
            },
            "marker": {
             "line": {
              "color": "#E5ECF6",
              "width": 0.5
             },
             "pattern": {
              "fillmode": "overlay",
              "size": 10,
              "solidity": 0.2
             }
            },
            "type": "bar"
           }
          ],
          "barpolar": [
           {
            "marker": {
             "line": {
              "color": "#E5ECF6",
              "width": 0.5
             },
             "pattern": {
              "fillmode": "overlay",
              "size": 10,
              "solidity": 0.2
             }
            },
            "type": "barpolar"
           }
          ],
          "carpet": [
           {
            "aaxis": {
             "endlinecolor": "#2a3f5f",
             "gridcolor": "white",
             "linecolor": "white",
             "minorgridcolor": "white",
             "startlinecolor": "#2a3f5f"
            },
            "baxis": {
             "endlinecolor": "#2a3f5f",
             "gridcolor": "white",
             "linecolor": "white",
             "minorgridcolor": "white",
             "startlinecolor": "#2a3f5f"
            },
            "type": "carpet"
           }
          ],
          "choropleth": [
           {
            "colorbar": {
             "outlinewidth": 0,
             "ticks": ""
            },
            "type": "choropleth"
           }
          ],
          "contour": [
           {
            "colorbar": {
             "outlinewidth": 0,
             "ticks": ""
            },
            "colorscale": [
             [
              0,
              "#0d0887"
             ],
             [
              0.1111111111111111,
              "#46039f"
             ],
             [
              0.2222222222222222,
              "#7201a8"
             ],
             [
              0.3333333333333333,
              "#9c179e"
             ],
             [
              0.4444444444444444,
              "#bd3786"
             ],
             [
              0.5555555555555556,
              "#d8576b"
             ],
             [
              0.6666666666666666,
              "#ed7953"
             ],
             [
              0.7777777777777778,
              "#fb9f3a"
             ],
             [
              0.8888888888888888,
              "#fdca26"
             ],
             [
              1,
              "#f0f921"
             ]
            ],
            "type": "contour"
           }
          ],
          "contourcarpet": [
           {
            "colorbar": {
             "outlinewidth": 0,
             "ticks": ""
            },
            "type": "contourcarpet"
           }
          ],
          "heatmap": [
           {
            "colorbar": {
             "outlinewidth": 0,
             "ticks": ""
            },
            "colorscale": [
             [
              0,
              "#0d0887"
             ],
             [
              0.1111111111111111,
              "#46039f"
             ],
             [
              0.2222222222222222,
              "#7201a8"
             ],
             [
              0.3333333333333333,
              "#9c179e"
             ],
             [
              0.4444444444444444,
              "#bd3786"
             ],
             [
              0.5555555555555556,
              "#d8576b"
             ],
             [
              0.6666666666666666,
              "#ed7953"
             ],
             [
              0.7777777777777778,
              "#fb9f3a"
             ],
             [
              0.8888888888888888,
              "#fdca26"
             ],
             [
              1,
              "#f0f921"
             ]
            ],
            "type": "heatmap"
           }
          ],
          "heatmapgl": [
           {
            "colorbar": {
             "outlinewidth": 0,
             "ticks": ""
            },
            "colorscale": [
             [
              0,
              "#0d0887"
             ],
             [
              0.1111111111111111,
              "#46039f"
             ],
             [
              0.2222222222222222,
              "#7201a8"
             ],
             [
              0.3333333333333333,
              "#9c179e"
             ],
             [
              0.4444444444444444,
              "#bd3786"
             ],
             [
              0.5555555555555556,
              "#d8576b"
             ],
             [
              0.6666666666666666,
              "#ed7953"
             ],
             [
              0.7777777777777778,
              "#fb9f3a"
             ],
             [
              0.8888888888888888,
              "#fdca26"
             ],
             [
              1,
              "#f0f921"
             ]
            ],
            "type": "heatmapgl"
           }
          ],
          "histogram": [
           {
            "marker": {
             "pattern": {
              "fillmode": "overlay",
              "size": 10,
              "solidity": 0.2
             }
            },
            "type": "histogram"
           }
          ],
          "histogram2d": [
           {
            "colorbar": {
             "outlinewidth": 0,
             "ticks": ""
            },
            "colorscale": [
             [
              0,
              "#0d0887"
             ],
             [
              0.1111111111111111,
              "#46039f"
             ],
             [
              0.2222222222222222,
              "#7201a8"
             ],
             [
              0.3333333333333333,
              "#9c179e"
             ],
             [
              0.4444444444444444,
              "#bd3786"
             ],
             [
              0.5555555555555556,
              "#d8576b"
             ],
             [
              0.6666666666666666,
              "#ed7953"
             ],
             [
              0.7777777777777778,
              "#fb9f3a"
             ],
             [
              0.8888888888888888,
              "#fdca26"
             ],
             [
              1,
              "#f0f921"
             ]
            ],
            "type": "histogram2d"
           }
          ],
          "histogram2dcontour": [
           {
            "colorbar": {
             "outlinewidth": 0,
             "ticks": ""
            },
            "colorscale": [
             [
              0,
              "#0d0887"
             ],
             [
              0.1111111111111111,
              "#46039f"
             ],
             [
              0.2222222222222222,
              "#7201a8"
             ],
             [
              0.3333333333333333,
              "#9c179e"
             ],
             [
              0.4444444444444444,
              "#bd3786"
             ],
             [
              0.5555555555555556,
              "#d8576b"
             ],
             [
              0.6666666666666666,
              "#ed7953"
             ],
             [
              0.7777777777777778,
              "#fb9f3a"
             ],
             [
              0.8888888888888888,
              "#fdca26"
             ],
             [
              1,
              "#f0f921"
             ]
            ],
            "type": "histogram2dcontour"
           }
          ],
          "mesh3d": [
           {
            "colorbar": {
             "outlinewidth": 0,
             "ticks": ""
            },
            "type": "mesh3d"
           }
          ],
          "parcoords": [
           {
            "line": {
             "colorbar": {
              "outlinewidth": 0,
              "ticks": ""
             }
            },
            "type": "parcoords"
           }
          ],
          "pie": [
           {
            "automargin": true,
            "type": "pie"
           }
          ],
          "scatter": [
           {
            "fillpattern": {
             "fillmode": "overlay",
             "size": 10,
             "solidity": 0.2
            },
            "type": "scatter"
           }
          ],
          "scatter3d": [
           {
            "line": {
             "colorbar": {
              "outlinewidth": 0,
              "ticks": ""
             }
            },
            "marker": {
             "colorbar": {
              "outlinewidth": 0,
              "ticks": ""
             }
            },
            "type": "scatter3d"
           }
          ],
          "scattercarpet": [
           {
            "marker": {
             "colorbar": {
              "outlinewidth": 0,
              "ticks": ""
             }
            },
            "type": "scattercarpet"
           }
          ],
          "scattergeo": [
           {
            "marker": {
             "colorbar": {
              "outlinewidth": 0,
              "ticks": ""
             }
            },
            "type": "scattergeo"
           }
          ],
          "scattergl": [
           {
            "marker": {
             "colorbar": {
              "outlinewidth": 0,
              "ticks": ""
             }
            },
            "type": "scattergl"
           }
          ],
          "scattermapbox": [
           {
            "marker": {
             "colorbar": {
              "outlinewidth": 0,
              "ticks": ""
             }
            },
            "type": "scattermapbox"
           }
          ],
          "scatterpolar": [
           {
            "marker": {
             "colorbar": {
              "outlinewidth": 0,
              "ticks": ""
             }
            },
            "type": "scatterpolar"
           }
          ],
          "scatterpolargl": [
           {
            "marker": {
             "colorbar": {
              "outlinewidth": 0,
              "ticks": ""
             }
            },
            "type": "scatterpolargl"
           }
          ],
          "scatterternary": [
           {
            "marker": {
             "colorbar": {
              "outlinewidth": 0,
              "ticks": ""
             }
            },
            "type": "scatterternary"
           }
          ],
          "surface": [
           {
            "colorbar": {
             "outlinewidth": 0,
             "ticks": ""
            },
            "colorscale": [
             [
              0,
              "#0d0887"
             ],
             [
              0.1111111111111111,
              "#46039f"
             ],
             [
              0.2222222222222222,
              "#7201a8"
             ],
             [
              0.3333333333333333,
              "#9c179e"
             ],
             [
              0.4444444444444444,
              "#bd3786"
             ],
             [
              0.5555555555555556,
              "#d8576b"
             ],
             [
              0.6666666666666666,
              "#ed7953"
             ],
             [
              0.7777777777777778,
              "#fb9f3a"
             ],
             [
              0.8888888888888888,
              "#fdca26"
             ],
             [
              1,
              "#f0f921"
             ]
            ],
            "type": "surface"
           }
          ],
          "table": [
           {
            "cells": {
             "fill": {
              "color": "#EBF0F8"
             },
             "line": {
              "color": "white"
             }
            },
            "header": {
             "fill": {
              "color": "#C8D4E3"
             },
             "line": {
              "color": "white"
             }
            },
            "type": "table"
           }
          ]
         },
         "layout": {
          "annotationdefaults": {
           "arrowcolor": "#2a3f5f",
           "arrowhead": 0,
           "arrowwidth": 1
          },
          "autotypenumbers": "strict",
          "coloraxis": {
           "colorbar": {
            "outlinewidth": 0,
            "ticks": ""
           }
          },
          "colorscale": {
           "diverging": [
            [
             0,
             "#8e0152"
            ],
            [
             0.1,
             "#c51b7d"
            ],
            [
             0.2,
             "#de77ae"
            ],
            [
             0.3,
             "#f1b6da"
            ],
            [
             0.4,
             "#fde0ef"
            ],
            [
             0.5,
             "#f7f7f7"
            ],
            [
             0.6,
             "#e6f5d0"
            ],
            [
             0.7,
             "#b8e186"
            ],
            [
             0.8,
             "#7fbc41"
            ],
            [
             0.9,
             "#4d9221"
            ],
            [
             1,
             "#276419"
            ]
           ],
           "sequential": [
            [
             0,
             "#0d0887"
            ],
            [
             0.1111111111111111,
             "#46039f"
            ],
            [
             0.2222222222222222,
             "#7201a8"
            ],
            [
             0.3333333333333333,
             "#9c179e"
            ],
            [
             0.4444444444444444,
             "#bd3786"
            ],
            [
             0.5555555555555556,
             "#d8576b"
            ],
            [
             0.6666666666666666,
             "#ed7953"
            ],
            [
             0.7777777777777778,
             "#fb9f3a"
            ],
            [
             0.8888888888888888,
             "#fdca26"
            ],
            [
             1,
             "#f0f921"
            ]
           ],
           "sequentialminus": [
            [
             0,
             "#0d0887"
            ],
            [
             0.1111111111111111,
             "#46039f"
            ],
            [
             0.2222222222222222,
             "#7201a8"
            ],
            [
             0.3333333333333333,
             "#9c179e"
            ],
            [
             0.4444444444444444,
             "#bd3786"
            ],
            [
             0.5555555555555556,
             "#d8576b"
            ],
            [
             0.6666666666666666,
             "#ed7953"
            ],
            [
             0.7777777777777778,
             "#fb9f3a"
            ],
            [
             0.8888888888888888,
             "#fdca26"
            ],
            [
             1,
             "#f0f921"
            ]
           ]
          },
          "colorway": [
           "#636efa",
           "#EF553B",
           "#00cc96",
           "#ab63fa",
           "#FFA15A",
           "#19d3f3",
           "#FF6692",
           "#B6E880",
           "#FF97FF",
           "#FECB52"
          ],
          "font": {
           "color": "#2a3f5f"
          },
          "geo": {
           "bgcolor": "white",
           "lakecolor": "white",
           "landcolor": "#E5ECF6",
           "showlakes": true,
           "showland": true,
           "subunitcolor": "white"
          },
          "hoverlabel": {
           "align": "left"
          },
          "hovermode": "closest",
          "mapbox": {
           "style": "light"
          },
          "paper_bgcolor": "white",
          "plot_bgcolor": "#E5ECF6",
          "polar": {
           "angularaxis": {
            "gridcolor": "white",
            "linecolor": "white",
            "ticks": ""
           },
           "bgcolor": "#E5ECF6",
           "radialaxis": {
            "gridcolor": "white",
            "linecolor": "white",
            "ticks": ""
           }
          },
          "scene": {
           "xaxis": {
            "backgroundcolor": "#E5ECF6",
            "gridcolor": "white",
            "gridwidth": 2,
            "linecolor": "white",
            "showbackground": true,
            "ticks": "",
            "zerolinecolor": "white"
           },
           "yaxis": {
            "backgroundcolor": "#E5ECF6",
            "gridcolor": "white",
            "gridwidth": 2,
            "linecolor": "white",
            "showbackground": true,
            "ticks": "",
            "zerolinecolor": "white"
           },
           "zaxis": {
            "backgroundcolor": "#E5ECF6",
            "gridcolor": "white",
            "gridwidth": 2,
            "linecolor": "white",
            "showbackground": true,
            "ticks": "",
            "zerolinecolor": "white"
           }
          },
          "shapedefaults": {
           "line": {
            "color": "#2a3f5f"
           }
          },
          "ternary": {
           "aaxis": {
            "gridcolor": "white",
            "linecolor": "white",
            "ticks": ""
           },
           "baxis": {
            "gridcolor": "white",
            "linecolor": "white",
            "ticks": ""
           },
           "bgcolor": "#E5ECF6",
           "caxis": {
            "gridcolor": "white",
            "linecolor": "white",
            "ticks": ""
           }
          },
          "title": {
           "x": 0.05
          },
          "xaxis": {
           "automargin": true,
           "gridcolor": "white",
           "linecolor": "white",
           "ticks": "",
           "title": {
            "standoff": 15
           },
           "zerolinecolor": "white",
           "zerolinewidth": 2
          },
          "yaxis": {
           "automargin": true,
           "gridcolor": "white",
           "linecolor": "white",
           "ticks": "",
           "title": {
            "standoff": 15
           },
           "zerolinecolor": "white",
           "zerolinewidth": 2
          }
         }
        },
        "title": {
         "text": "Pythia Eval Similarity Distribution"
        },
        "xaxis": {
         "anchor": "y",
         "domain": [
          0,
          1
         ],
         "title": {
          "text": "value"
         }
        },
        "yaxis": {
         "anchor": "x",
         "domain": [
          0,
          1
         ],
         "title": {
          "text": "count"
         }
        }
       }
      },
      "text/html": [
       "<div>                            <div id=\"35545767-95c2-4f69-97ba-a7d8a3a122ae\" class=\"plotly-graph-div\" style=\"height:525px; width:100%;\"></div>            <script type=\"text/javascript\">                require([\"plotly\"], function(Plotly) {                    window.PLOTLYENV=window.PLOTLYENV || {};                                    if (document.getElementById(\"35545767-95c2-4f69-97ba-a7d8a3a122ae\")) {                    Plotly.newPlot(                        \"35545767-95c2-4f69-97ba-a7d8a3a122ae\",                        [{\"alignmentgroup\":\"True\",\"bingroup\":\"x\",\"hovertemplate\":\"variable=tok_by_tok_sim\\u003cbr\\u003evalue=%{x}\\u003cbr\\u003ecount=%{y}\\u003cextra\\u003e\\u003c\\u002fextra\\u003e\",\"legendgroup\":\"tok_by_tok_sim\",\"marker\":{\"color\":\"#636efa\",\"pattern\":{\"shape\":\"\"}},\"name\":\"tok_by_tok_sim\",\"offsetgroup\":\"tok_by_tok_sim\",\"orientation\":\"v\",\"showlegend\":true,\"x\":[1.0,0.59375,0.578125,1.0,1.0,1.0,1.0,0.6875,1.0,1.0,1.0,1.0,1.0,0.859375,0.703125,1.0,1.0,0.984375,1.0,1.0,1.0,0.8125,1.0,1.0,1.0,1.0,1.0,1.0,1.0,0.5625,1.0,1.0,1.0,0.59375,0.578125,0.984375,1.0,0.953125,1.0,1.0,1.0,0.609375,1.0,0.53125,1.0,0.625,1.0,0.5,1.0,0.609375,1.0,1.0,0.953125,0.5,1.0,0.9375,1.0,1.0,0.671875,0.515625,1.0,1.0,1.0,1.0,1.0,1.0,1.0,0.640625,0.953125,0.609375,1.0,1.0,0.984375,0.71875,1.0,1.0,0.53125,1.0,1.0,1.0,0.984375,0.90625,0.96875,1.0,1.0,1.0,1.0,1.0,1.0,1.0,1.0,0.90625,1.0,1.0,1.0,1.0,1.0,1.0,1.0,0.953125,1.0,1.0,0.8125,0.9375,1.0,0.984375,1.0,0.703125,1.0,1.0,0.609375,1.0,1.0,1.0,1.0,1.0,1.0,1.0,1.0,0.671875,0.96875,1.0,1.0,1.0,1.0,1.0,0.59375,0.5625,1.0,0.984375,1.0,1.0,0.953125,0.78125,1.0,1.0,1.0,1.0,0.5625,1.0,0.984375,0.828125,1.0,0.875,0.71875,1.0,1.0,1.0,1.0,1.0,0.53125,0.6875,1.0,0.6875,1.0,1.0,0.953125,1.0,1.0,0.90625,1.0,1.0,0.578125,0.859375,1.0,1.0,0.984375,0.96875,0.609375,1.0,1.0,0.6875,1.0,1.0,0.90625,1.0,0.765625,1.0,1.0,0.984375,1.0,1.0,1.0,1.0,1.0,1.0,1.0,1.0,1.0,0.65625,1.0,1.0,0.703125,1.0,1.0,1.0,1.0,1.0,1.0,1.0,0.65625,1.0,1.0,1.0,1.0,1.0,0.875,0.96875,1.0,1.0,1.0,0.5,1.0,0.53125,1.0,1.0,0.515625,1.0,0.859375,1.0,1.0,0.75,1.0,0.671875,1.0,1.0,1.0,1.0,1.0,1.0,1.0,1.0,1.0,1.0,1.0,0.8125,0.96875,1.0,1.0,0.53125,0.75,0.53125,1.0,1.0,1.0,1.0,1.0,0.953125,1.0,0.796875,1.0,1.0,1.0,1.0,1.0,1.0,1.0,0.53125,1.0,1.0,1.0,0.578125,1.0,1.0,1.0,0.90625,0.859375,1.0,1.0,1.0,1.0,0.515625,1.0,1.0,1.0,1.0,1.0,1.0,1.0,1.0,0.53125,1.0,0.5,0.75,0.53125,1.0,1.0,1.0,1.0,1.0,1.0,1.0,1.0,1.0,1.0,1.0,0.59375,0.609375,0.984375,0.65625,0.546875,0.96875,1.0,0.9375,0.734375,1.0,1.0,1.0,1.0,1.0,0.75,0.5,0.53125,0.53125,1.0,1.0,0.875,1.0,1.0,0.953125,1.0,1.0,0.84375,1.0,0.5625,1.0,1.0,0.65625,1.0,1.0,1.0,1.0,0.578125,1.0,1.0,0.9375,1.0,1.0,0.609375,1.0,1.0,1.0,0.953125,0.515625,0.671875,1.0,1.0,0.546875,1.0,1.0,1.0,0.84375,0.5,0.953125,0.828125,1.0,1.0,0.515625,0.59375,1.0,1.0,1.0,0.984375,1.0,1.0,1.0,0.71875,1.0,1.0,1.0,1.0,1.0,1.0,0.75,1.0,1.0,1.0,0.5,0.78125,0.609375,1.0,1.0,1.0,1.0,1.0,1.0,0.921875,0.859375,1.0,1.0,1.0,1.0,1.0,1.0,1.0,1.0,1.0,0.96875,0.5,1.0,1.0,1.0,0.6875,1.0,1.0,0.984375,0.515625,1.0,0.734375,0.828125,1.0,1.0,0.984375,1.0,1.0,0.5,1.0,0.546875,0.5625,0.953125,0.5625,1.0,0.96875,1.0,1.0,1.0,1.0,1.0,0.578125,0.953125,1.0,1.0,0.515625,1.0,1.0,0.65625,1.0,1.0,1.0,1.0,1.0,1.0,0.578125,0.953125,1.0,1.0,0.640625,0.8125,1.0,0.84375,1.0,1.0,0.75,1.0,1.0,1.0,1.0,1.0,0.5625,1.0,1.0,0.84375,1.0,1.0,1.0,1.0,1.0,1.0,1.0,1.0,0.5625,1.0,0.765625,1.0,0.515625,1.0,0.953125,1.0,1.0,0.578125,1.0,1.0,1.0,0.515625,1.0,1.0,1.0,0.859375,1.0,1.0,1.0,1.0,1.0,1.0,1.0,0.625,1.0,1.0,0.765625,1.0],\"xaxis\":\"x\",\"yaxis\":\"y\",\"type\":\"histogram\"}],                        {\"template\":{\"data\":{\"histogram2dcontour\":[{\"type\":\"histogram2dcontour\",\"colorbar\":{\"outlinewidth\":0,\"ticks\":\"\"},\"colorscale\":[[0.0,\"#0d0887\"],[0.1111111111111111,\"#46039f\"],[0.2222222222222222,\"#7201a8\"],[0.3333333333333333,\"#9c179e\"],[0.4444444444444444,\"#bd3786\"],[0.5555555555555556,\"#d8576b\"],[0.6666666666666666,\"#ed7953\"],[0.7777777777777778,\"#fb9f3a\"],[0.8888888888888888,\"#fdca26\"],[1.0,\"#f0f921\"]]}],\"choropleth\":[{\"type\":\"choropleth\",\"colorbar\":{\"outlinewidth\":0,\"ticks\":\"\"}}],\"histogram2d\":[{\"type\":\"histogram2d\",\"colorbar\":{\"outlinewidth\":0,\"ticks\":\"\"},\"colorscale\":[[0.0,\"#0d0887\"],[0.1111111111111111,\"#46039f\"],[0.2222222222222222,\"#7201a8\"],[0.3333333333333333,\"#9c179e\"],[0.4444444444444444,\"#bd3786\"],[0.5555555555555556,\"#d8576b\"],[0.6666666666666666,\"#ed7953\"],[0.7777777777777778,\"#fb9f3a\"],[0.8888888888888888,\"#fdca26\"],[1.0,\"#f0f921\"]]}],\"heatmap\":[{\"type\":\"heatmap\",\"colorbar\":{\"outlinewidth\":0,\"ticks\":\"\"},\"colorscale\":[[0.0,\"#0d0887\"],[0.1111111111111111,\"#46039f\"],[0.2222222222222222,\"#7201a8\"],[0.3333333333333333,\"#9c179e\"],[0.4444444444444444,\"#bd3786\"],[0.5555555555555556,\"#d8576b\"],[0.6666666666666666,\"#ed7953\"],[0.7777777777777778,\"#fb9f3a\"],[0.8888888888888888,\"#fdca26\"],[1.0,\"#f0f921\"]]}],\"heatmapgl\":[{\"type\":\"heatmapgl\",\"colorbar\":{\"outlinewidth\":0,\"ticks\":\"\"},\"colorscale\":[[0.0,\"#0d0887\"],[0.1111111111111111,\"#46039f\"],[0.2222222222222222,\"#7201a8\"],[0.3333333333333333,\"#9c179e\"],[0.4444444444444444,\"#bd3786\"],[0.5555555555555556,\"#d8576b\"],[0.6666666666666666,\"#ed7953\"],[0.7777777777777778,\"#fb9f3a\"],[0.8888888888888888,\"#fdca26\"],[1.0,\"#f0f921\"]]}],\"contourcarpet\":[{\"type\":\"contourcarpet\",\"colorbar\":{\"outlinewidth\":0,\"ticks\":\"\"}}],\"contour\":[{\"type\":\"contour\",\"colorbar\":{\"outlinewidth\":0,\"ticks\":\"\"},\"colorscale\":[[0.0,\"#0d0887\"],[0.1111111111111111,\"#46039f\"],[0.2222222222222222,\"#7201a8\"],[0.3333333333333333,\"#9c179e\"],[0.4444444444444444,\"#bd3786\"],[0.5555555555555556,\"#d8576b\"],[0.6666666666666666,\"#ed7953\"],[0.7777777777777778,\"#fb9f3a\"],[0.8888888888888888,\"#fdca26\"],[1.0,\"#f0f921\"]]}],\"surface\":[{\"type\":\"surface\",\"colorbar\":{\"outlinewidth\":0,\"ticks\":\"\"},\"colorscale\":[[0.0,\"#0d0887\"],[0.1111111111111111,\"#46039f\"],[0.2222222222222222,\"#7201a8\"],[0.3333333333333333,\"#9c179e\"],[0.4444444444444444,\"#bd3786\"],[0.5555555555555556,\"#d8576b\"],[0.6666666666666666,\"#ed7953\"],[0.7777777777777778,\"#fb9f3a\"],[0.8888888888888888,\"#fdca26\"],[1.0,\"#f0f921\"]]}],\"mesh3d\":[{\"type\":\"mesh3d\",\"colorbar\":{\"outlinewidth\":0,\"ticks\":\"\"}}],\"scatter\":[{\"fillpattern\":{\"fillmode\":\"overlay\",\"size\":10,\"solidity\":0.2},\"type\":\"scatter\"}],\"parcoords\":[{\"type\":\"parcoords\",\"line\":{\"colorbar\":{\"outlinewidth\":0,\"ticks\":\"\"}}}],\"scatterpolargl\":[{\"type\":\"scatterpolargl\",\"marker\":{\"colorbar\":{\"outlinewidth\":0,\"ticks\":\"\"}}}],\"bar\":[{\"error_x\":{\"color\":\"#2a3f5f\"},\"error_y\":{\"color\":\"#2a3f5f\"},\"marker\":{\"line\":{\"color\":\"#E5ECF6\",\"width\":0.5},\"pattern\":{\"fillmode\":\"overlay\",\"size\":10,\"solidity\":0.2}},\"type\":\"bar\"}],\"scattergeo\":[{\"type\":\"scattergeo\",\"marker\":{\"colorbar\":{\"outlinewidth\":0,\"ticks\":\"\"}}}],\"scatterpolar\":[{\"type\":\"scatterpolar\",\"marker\":{\"colorbar\":{\"outlinewidth\":0,\"ticks\":\"\"}}}],\"histogram\":[{\"marker\":{\"pattern\":{\"fillmode\":\"overlay\",\"size\":10,\"solidity\":0.2}},\"type\":\"histogram\"}],\"scattergl\":[{\"type\":\"scattergl\",\"marker\":{\"colorbar\":{\"outlinewidth\":0,\"ticks\":\"\"}}}],\"scatter3d\":[{\"type\":\"scatter3d\",\"line\":{\"colorbar\":{\"outlinewidth\":0,\"ticks\":\"\"}},\"marker\":{\"colorbar\":{\"outlinewidth\":0,\"ticks\":\"\"}}}],\"scattermapbox\":[{\"type\":\"scattermapbox\",\"marker\":{\"colorbar\":{\"outlinewidth\":0,\"ticks\":\"\"}}}],\"scatterternary\":[{\"type\":\"scatterternary\",\"marker\":{\"colorbar\":{\"outlinewidth\":0,\"ticks\":\"\"}}}],\"scattercarpet\":[{\"type\":\"scattercarpet\",\"marker\":{\"colorbar\":{\"outlinewidth\":0,\"ticks\":\"\"}}}],\"carpet\":[{\"aaxis\":{\"endlinecolor\":\"#2a3f5f\",\"gridcolor\":\"white\",\"linecolor\":\"white\",\"minorgridcolor\":\"white\",\"startlinecolor\":\"#2a3f5f\"},\"baxis\":{\"endlinecolor\":\"#2a3f5f\",\"gridcolor\":\"white\",\"linecolor\":\"white\",\"minorgridcolor\":\"white\",\"startlinecolor\":\"#2a3f5f\"},\"type\":\"carpet\"}],\"table\":[{\"cells\":{\"fill\":{\"color\":\"#EBF0F8\"},\"line\":{\"color\":\"white\"}},\"header\":{\"fill\":{\"color\":\"#C8D4E3\"},\"line\":{\"color\":\"white\"}},\"type\":\"table\"}],\"barpolar\":[{\"marker\":{\"line\":{\"color\":\"#E5ECF6\",\"width\":0.5},\"pattern\":{\"fillmode\":\"overlay\",\"size\":10,\"solidity\":0.2}},\"type\":\"barpolar\"}],\"pie\":[{\"automargin\":true,\"type\":\"pie\"}]},\"layout\":{\"autotypenumbers\":\"strict\",\"colorway\":[\"#636efa\",\"#EF553B\",\"#00cc96\",\"#ab63fa\",\"#FFA15A\",\"#19d3f3\",\"#FF6692\",\"#B6E880\",\"#FF97FF\",\"#FECB52\"],\"font\":{\"color\":\"#2a3f5f\"},\"hovermode\":\"closest\",\"hoverlabel\":{\"align\":\"left\"},\"paper_bgcolor\":\"white\",\"plot_bgcolor\":\"#E5ECF6\",\"polar\":{\"bgcolor\":\"#E5ECF6\",\"angularaxis\":{\"gridcolor\":\"white\",\"linecolor\":\"white\",\"ticks\":\"\"},\"radialaxis\":{\"gridcolor\":\"white\",\"linecolor\":\"white\",\"ticks\":\"\"}},\"ternary\":{\"bgcolor\":\"#E5ECF6\",\"aaxis\":{\"gridcolor\":\"white\",\"linecolor\":\"white\",\"ticks\":\"\"},\"baxis\":{\"gridcolor\":\"white\",\"linecolor\":\"white\",\"ticks\":\"\"},\"caxis\":{\"gridcolor\":\"white\",\"linecolor\":\"white\",\"ticks\":\"\"}},\"coloraxis\":{\"colorbar\":{\"outlinewidth\":0,\"ticks\":\"\"}},\"colorscale\":{\"sequential\":[[0.0,\"#0d0887\"],[0.1111111111111111,\"#46039f\"],[0.2222222222222222,\"#7201a8\"],[0.3333333333333333,\"#9c179e\"],[0.4444444444444444,\"#bd3786\"],[0.5555555555555556,\"#d8576b\"],[0.6666666666666666,\"#ed7953\"],[0.7777777777777778,\"#fb9f3a\"],[0.8888888888888888,\"#fdca26\"],[1.0,\"#f0f921\"]],\"sequentialminus\":[[0.0,\"#0d0887\"],[0.1111111111111111,\"#46039f\"],[0.2222222222222222,\"#7201a8\"],[0.3333333333333333,\"#9c179e\"],[0.4444444444444444,\"#bd3786\"],[0.5555555555555556,\"#d8576b\"],[0.6666666666666666,\"#ed7953\"],[0.7777777777777778,\"#fb9f3a\"],[0.8888888888888888,\"#fdca26\"],[1.0,\"#f0f921\"]],\"diverging\":[[0,\"#8e0152\"],[0.1,\"#c51b7d\"],[0.2,\"#de77ae\"],[0.3,\"#f1b6da\"],[0.4,\"#fde0ef\"],[0.5,\"#f7f7f7\"],[0.6,\"#e6f5d0\"],[0.7,\"#b8e186\"],[0.8,\"#7fbc41\"],[0.9,\"#4d9221\"],[1,\"#276419\"]]},\"xaxis\":{\"gridcolor\":\"white\",\"linecolor\":\"white\",\"ticks\":\"\",\"title\":{\"standoff\":15},\"zerolinecolor\":\"white\",\"automargin\":true,\"zerolinewidth\":2},\"yaxis\":{\"gridcolor\":\"white\",\"linecolor\":\"white\",\"ticks\":\"\",\"title\":{\"standoff\":15},\"zerolinecolor\":\"white\",\"automargin\":true,\"zerolinewidth\":2},\"scene\":{\"xaxis\":{\"backgroundcolor\":\"#E5ECF6\",\"gridcolor\":\"white\",\"linecolor\":\"white\",\"showbackground\":true,\"ticks\":\"\",\"zerolinecolor\":\"white\",\"gridwidth\":2},\"yaxis\":{\"backgroundcolor\":\"#E5ECF6\",\"gridcolor\":\"white\",\"linecolor\":\"white\",\"showbackground\":true,\"ticks\":\"\",\"zerolinecolor\":\"white\",\"gridwidth\":2},\"zaxis\":{\"backgroundcolor\":\"#E5ECF6\",\"gridcolor\":\"white\",\"linecolor\":\"white\",\"showbackground\":true,\"ticks\":\"\",\"zerolinecolor\":\"white\",\"gridwidth\":2}},\"shapedefaults\":{\"line\":{\"color\":\"#2a3f5f\"}},\"annotationdefaults\":{\"arrowcolor\":\"#2a3f5f\",\"arrowhead\":0,\"arrowwidth\":1},\"geo\":{\"bgcolor\":\"white\",\"landcolor\":\"#E5ECF6\",\"subunitcolor\":\"white\",\"showland\":true,\"showlakes\":true,\"lakecolor\":\"white\"},\"title\":{\"x\":0.05},\"mapbox\":{\"style\":\"light\"}}},\"xaxis\":{\"anchor\":\"y\",\"domain\":[0.0,1.0],\"title\":{\"text\":\"value\"}},\"yaxis\":{\"anchor\":\"x\",\"domain\":[0.0,1.0],\"title\":{\"text\":\"count\"}},\"legend\":{\"title\":{\"text\":\"variable\"},\"tracegroupgap\":0},\"title\":{\"text\":\"Pythia Eval Similarity Distribution\"},\"barmode\":\"relative\"},                        {\"responsive\": true}                    ).then(function(){\n",
       "                            \n",
       "var gd = document.getElementById('35545767-95c2-4f69-97ba-a7d8a3a122ae');\n",
       "var x = new MutationObserver(function (mutations, observer) {{\n",
       "        var display = window.getComputedStyle(gd).display;\n",
       "        if (!display || display === 'none') {{\n",
       "            console.log([gd, 'removed!']);\n",
       "            Plotly.purge(gd);\n",
       "            observer.disconnect();\n",
       "        }}\n",
       "}});\n",
       "\n",
       "// Listen for the removal of the full notebook cells\n",
       "var notebookContainer = gd.closest('#notebook-container');\n",
       "if (notebookContainer) {{\n",
       "    x.observe(notebookContainer, {childList: true});\n",
       "}}\n",
       "\n",
       "// Listen for the clearing of the current output cell\n",
       "var outputEl = gd.closest('.output');\n",
       "if (outputEl) {{\n",
       "    x.observe(outputEl, {childList: true});\n",
       "}}\n",
       "\n",
       "                        })                };                });            </script>        </div>"
      ]
     },
     "metadata": {},
     "output_type": "display_data"
    }
   ],
   "source": [
    "px.histogram(pythia_evals_metadata['tok_by_tok_sim'], title = 'Pythia Eval Similarity Distribution')"
   ]
  },
  {
   "cell_type": "code",
   "execution_count": 10,
   "metadata": {},
   "outputs": [],
   "source": [
    "from white_box.probes import LRProbe\n",
    "from sklearn.model_selection import train_test_split\n",
    "from torch.utils.data import Dataset, DataLoader\n",
    "from sklearn.linear_model import LogisticRegression\n",
    "from datasets import load_from_disk, DatasetDict\n",
    "from sklearn.metrics import accuracy_score, roc_auc_score\n",
    "\n",
    "class Dataset:\n",
    "    def __init__(self, pos : List[PromptDist], neg : List[PromptDist]):\n",
    "        self.pos = pos\n",
    "        self.neg = neg\n",
    "        \n",
    "        self.X = None\n",
    "        self.y = None\n",
    "    \n",
    "    def instantiate(self):\n",
    "        pos_states = torch.cat([torch.load(x.path_to_states)[x.idxs] for x in self.pos])\n",
    "        neg_states = torch.cat([torch.load(x.path_to_states)[x.idxs] for x in self.neg])\n",
    "        \n",
    "        self.X = torch.cat([pos_states, neg_states]).cpu().float()\n",
    "        self.y = torch.cat([torch.ones(len(pos_states)), torch.zeros(len(neg_states))])\n",
    "        return self.X, self.y\n",
    "    \n",
    "    def train_test_split(self,\n",
    "                        test_size : float = 0.2, \n",
    "                        layer : int = None,\n",
    "                        tok_idxs : List[int] = None,\n",
    "                        random_state : int = 0,\n",
    "                        balanced : bool = True):\n",
    "        \n",
    "        assert self.X is not None, \"You must instantiate the dataset first\"\n",
    "            \n",
    "        if tok_idxs is not None:\n",
    "            labels = self.y.view(-1, 1).expand(-1, len(tok_idxs)).flatten()\n",
    "            if layer is not None:\n",
    "                states = self.X[:, layer, tok_idxs].reshape(-1, self.X.shape[3])\n",
    "            else:\n",
    "                states = self.X[:, :, tok_idxs].reshape(-1, self.X.shape[3])\n",
    "        else:\n",
    "            labels = self.y\n",
    "            states = self.X\n",
    "        \n",
    "        train_indices, test_indices = train_test_split(np.arange(len(labels)), test_size = test_size, random_state = random_state, stratify = labels if balanced else None)\n",
    "        \n",
    "        train_states = states[train_indices]\n",
    "        test_states = states[test_indices]\n",
    "\n",
    "        train_labels = labels[train_indices]\n",
    "        test_labels = labels[test_indices]\n",
    "        \n",
    "        return train_states, test_states, train_labels, test_labels"
   ]
  },
  {
   "cell_type": "code",
   "execution_count": 11,
   "metadata": {},
   "outputs": [],
   "source": [
    "\n",
    "class ProbeDataset():\n",
    "    def __init__(self, dataset : Dataset):\n",
    "        if dataset.X is None:\n",
    "            dataset.instantiate()\n",
    "        \n",
    "        self.dataset = dataset\n",
    "        \n",
    "        self.N_LAYERS = self.dataset.X.shape[1]\n",
    "        self.N_TOKS = self.dataset.X.shape[2]\n",
    "    \n",
    "    def layer_sweep_results(self,\n",
    "                            lr : float = 0.01,\n",
    "                            weight_decay : float = 1,\n",
    "                            epochs : int = 500,\n",
    "                            use_bias : bool = True,\n",
    "                            test_size = 0.2):\n",
    "        probes = [[None for _ in range(self.N_TOKS)] for _ in range(self.N_LAYERS)]\n",
    "        probe_accs = [[None for _ in range(self.N_TOKS)] for _ in range(self.N_LAYERS)]\n",
    "        probe_aucs = [[None for _ in range(self.N_TOKS)] for _ in range(self.N_LAYERS)]\n",
    "        \n",
    "        train_states, val_states, y_train, y_val = self.dataset.train_test_split(test_size = test_size, layer = None, tok_idxs = None, random_state = 0)\n",
    "        \n",
    "        for layer in tqdm(range(self.N_LAYERS)):\n",
    "            for tok_idx in range(self.N_TOKS):\n",
    "                X_train, X_val = train_states[:, layer, tok_idx], val_states[:, layer, tok_idx]\n",
    "                \n",
    "                probe = LRProbe.from_data(X_train, y_train, \n",
    "                                        lr = lr, \n",
    "                                        weight_decay = weight_decay, \n",
    "                                        epochs = epochs, \n",
    "                                        use_bias = use_bias,\n",
    "                                        device = \"cuda\")    \n",
    "                    \n",
    "                probes[layer][tok_idx] = probe\n",
    "                probe_accs[layer][tok_idx] = probe.get_probe_accuracy(X_val, y_val, device = \"cuda\")\n",
    "                probe_aucs[layer][tok_idx] = probe.get_probe_auc(X_val, y_val, device = \"cuda\")\n",
    "        \n",
    "        return np.array(probe_accs).T, np.array(probe_aucs).T, probes\n",
    "\n",
    "    def train_probe(self, layer : int, tok_idxs : List[int],\n",
    "                    lr : float = 0.01,\n",
    "                    weight_decay : float = 1,\n",
    "                    epochs : int = 500,\n",
    "                    use_bias : bool = True):\n",
    "        \n",
    "        X_train, X_val, y_train, y_val = self.dataset.train_test_split(test_size = 0.2, layer = layer, tok_idxs = tok_idxs, random_state = 0)\n",
    "        \n",
    "        probe = LRProbe.from_data(X_train, y_train, \n",
    "                                lr = lr, \n",
    "                                weight_decay = weight_decay, \n",
    "                                epochs = epochs, \n",
    "                                use_bias = use_bias,\n",
    "                                device = \"cuda\")\n",
    "\n",
    "        acc = probe.get_probe_accuracy(X_val, y_val, device = \"cuda\")\n",
    "        auc = probe.get_probe_auc(X_val, y_val, device = \"cuda\")\n",
    "        \n",
    "        return acc, auc, probe\n",
    "    \n",
    "    def train_sk_probe(self, layer : int, tok_idxs : List[int], \n",
    "                       max_iter = 3000,\n",
    "                       C = 1e-5\n",
    "                       ):\n",
    "        X_train, X_val, y_train, y_val = self.dataset.train_test_split(test_size = 0.2, layer = layer, tok_idxs = tok_idxs, random_state = 0)\n",
    "\n",
    "        probe_lr = LogisticRegression(max_iter = max_iter, C = C)\n",
    "        probe_lr.fit(X_train.numpy(), y_train.numpy())\n",
    "\n",
    "        y_pred = probe_lr.predict(X_val.numpy())\n",
    "        accuracy = accuracy_score(y_val.numpy(), y_pred)\n",
    "        auc = roc_auc_score(y_val.numpy(), probe_lr.predict_proba(X_val.numpy())[:, 1])\n",
    "        \n",
    "        return accuracy, auc, probe_lr"
   ]
  },
  {
   "cell_type": "code",
   "execution_count": 12,
   "metadata": {},
   "outputs": [
    {
     "name": "stderr",
     "output_type": "stream",
     "text": [
      "100%|██████████| 6/6 [00:23<00:00,  3.83s/it]\n"
     ]
    }
   ],
   "source": [
    "dataset = Dataset([pos_pythia_evals, pos_quotes, pos_prefix], [neg_pythia_evals, neg_quotes, ])\n",
    "X, y = dataset.instantiate()\n",
    "probe_dataset = ProbeDataset(dataset)\n",
    "accs, aucs, probes = probe_dataset.layer_sweep_results()"
   ]
  },
  {
   "cell_type": "code",
   "execution_count": 13,
   "metadata": {},
   "outputs": [
    {
     "data": {
      "application/vnd.plotly.v1+json": {
       "config": {
        "plotlyServerURL": "https://plot.ly"
       },
       "data": [
        {
         "coloraxis": "coloraxis",
         "hovertemplate": "x: %{x}<br>y: %{y}<br>color: %{z}<extra></extra>",
         "name": "0",
         "type": "heatmap",
         "x": [
          "0",
          "1",
          "2",
          "3",
          "4",
          "5"
         ],
         "xaxis": "x",
         "y": [
          "0",
          "1",
          "2",
          "3",
          "4",
          "5",
          "6",
          "7",
          "8",
          "9"
         ],
         "yaxis": "y",
         "z": [
          [
           0.807692289352417,
           0.807692289352417,
           0.8205128312110901,
           0.8205128312110901,
           0.8333333730697632,
           0.14102564752101898
          ],
          [
           0.7820512652397156,
           0.8589743971824646,
           0.807692289352417,
           0.8205128312110901,
           0.8333333730697632,
           0.8589743971824646
          ],
          [
           0.7948718070983887,
           0.8461538553237915,
           0.8461538553237915,
           0.807692289352417,
           0.807692289352417,
           0.8589743971824646
          ],
          [
           0.8333333730697632,
           0.8589743971824646,
           0.8717948794364929,
           0.8333333730697632,
           0.8333333730697632,
           0.8589743971824646
          ],
          [
           0.807692289352417,
           0.8589743971824646,
           0.807692289352417,
           0.8461538553237915,
           0.8717948794364929,
           0.8589743971824646
          ],
          [
           0.8461538553237915,
           0.8461538553237915,
           0.8205128312110901,
           0.8461538553237915,
           0.8333333730697632,
           0.14102564752101898
          ],
          [
           0.8205128312110901,
           0.8717948794364929,
           0.8717948794364929,
           0.9358974695205688,
           0.884615421295166,
           0.8589743971824646
          ],
          [
           0.8205128312110901,
           0.884615421295166,
           0.8717948794364929,
           0.9102564454078674,
           0.8717948794364929,
           0.8589743971824646
          ],
          [
           0.8205128312110901,
           0.7948718070983887,
           0.8717948794364929,
           0.7948718070983887,
           0.8205128312110901,
           0.8589743971824646
          ],
          [
           0.8461538553237915,
           0.8461538553237915,
           0.9230769276618958,
           0.8717948794364929,
           0.9102564454078674,
           0.8589743971824646
          ]
         ]
        }
       ],
       "layout": {
        "coloraxis": {
         "colorscale": [
          [
           0,
           "#0d0887"
          ],
          [
           0.1111111111111111,
           "#46039f"
          ],
          [
           0.2222222222222222,
           "#7201a8"
          ],
          [
           0.3333333333333333,
           "#9c179e"
          ],
          [
           0.4444444444444444,
           "#bd3786"
          ],
          [
           0.5555555555555556,
           "#d8576b"
          ],
          [
           0.6666666666666666,
           "#ed7953"
          ],
          [
           0.7777777777777778,
           "#fb9f3a"
          ],
          [
           0.8888888888888888,
           "#fdca26"
          ],
          [
           1,
           "#f0f921"
          ]
         ]
        },
        "margin": {
         "t": 60
        },
        "template": {
         "data": {
          "bar": [
           {
            "error_x": {
             "color": "#2a3f5f"
            },
            "error_y": {
             "color": "#2a3f5f"
            },
            "marker": {
             "line": {
              "color": "#E5ECF6",
              "width": 0.5
             },
             "pattern": {
              "fillmode": "overlay",
              "size": 10,
              "solidity": 0.2
             }
            },
            "type": "bar"
           }
          ],
          "barpolar": [
           {
            "marker": {
             "line": {
              "color": "#E5ECF6",
              "width": 0.5
             },
             "pattern": {
              "fillmode": "overlay",
              "size": 10,
              "solidity": 0.2
             }
            },
            "type": "barpolar"
           }
          ],
          "carpet": [
           {
            "aaxis": {
             "endlinecolor": "#2a3f5f",
             "gridcolor": "white",
             "linecolor": "white",
             "minorgridcolor": "white",
             "startlinecolor": "#2a3f5f"
            },
            "baxis": {
             "endlinecolor": "#2a3f5f",
             "gridcolor": "white",
             "linecolor": "white",
             "minorgridcolor": "white",
             "startlinecolor": "#2a3f5f"
            },
            "type": "carpet"
           }
          ],
          "choropleth": [
           {
            "colorbar": {
             "outlinewidth": 0,
             "ticks": ""
            },
            "type": "choropleth"
           }
          ],
          "contour": [
           {
            "colorbar": {
             "outlinewidth": 0,
             "ticks": ""
            },
            "colorscale": [
             [
              0,
              "#0d0887"
             ],
             [
              0.1111111111111111,
              "#46039f"
             ],
             [
              0.2222222222222222,
              "#7201a8"
             ],
             [
              0.3333333333333333,
              "#9c179e"
             ],
             [
              0.4444444444444444,
              "#bd3786"
             ],
             [
              0.5555555555555556,
              "#d8576b"
             ],
             [
              0.6666666666666666,
              "#ed7953"
             ],
             [
              0.7777777777777778,
              "#fb9f3a"
             ],
             [
              0.8888888888888888,
              "#fdca26"
             ],
             [
              1,
              "#f0f921"
             ]
            ],
            "type": "contour"
           }
          ],
          "contourcarpet": [
           {
            "colorbar": {
             "outlinewidth": 0,
             "ticks": ""
            },
            "type": "contourcarpet"
           }
          ],
          "heatmap": [
           {
            "colorbar": {
             "outlinewidth": 0,
             "ticks": ""
            },
            "colorscale": [
             [
              0,
              "#0d0887"
             ],
             [
              0.1111111111111111,
              "#46039f"
             ],
             [
              0.2222222222222222,
              "#7201a8"
             ],
             [
              0.3333333333333333,
              "#9c179e"
             ],
             [
              0.4444444444444444,
              "#bd3786"
             ],
             [
              0.5555555555555556,
              "#d8576b"
             ],
             [
              0.6666666666666666,
              "#ed7953"
             ],
             [
              0.7777777777777778,
              "#fb9f3a"
             ],
             [
              0.8888888888888888,
              "#fdca26"
             ],
             [
              1,
              "#f0f921"
             ]
            ],
            "type": "heatmap"
           }
          ],
          "heatmapgl": [
           {
            "colorbar": {
             "outlinewidth": 0,
             "ticks": ""
            },
            "colorscale": [
             [
              0,
              "#0d0887"
             ],
             [
              0.1111111111111111,
              "#46039f"
             ],
             [
              0.2222222222222222,
              "#7201a8"
             ],
             [
              0.3333333333333333,
              "#9c179e"
             ],
             [
              0.4444444444444444,
              "#bd3786"
             ],
             [
              0.5555555555555556,
              "#d8576b"
             ],
             [
              0.6666666666666666,
              "#ed7953"
             ],
             [
              0.7777777777777778,
              "#fb9f3a"
             ],
             [
              0.8888888888888888,
              "#fdca26"
             ],
             [
              1,
              "#f0f921"
             ]
            ],
            "type": "heatmapgl"
           }
          ],
          "histogram": [
           {
            "marker": {
             "pattern": {
              "fillmode": "overlay",
              "size": 10,
              "solidity": 0.2
             }
            },
            "type": "histogram"
           }
          ],
          "histogram2d": [
           {
            "colorbar": {
             "outlinewidth": 0,
             "ticks": ""
            },
            "colorscale": [
             [
              0,
              "#0d0887"
             ],
             [
              0.1111111111111111,
              "#46039f"
             ],
             [
              0.2222222222222222,
              "#7201a8"
             ],
             [
              0.3333333333333333,
              "#9c179e"
             ],
             [
              0.4444444444444444,
              "#bd3786"
             ],
             [
              0.5555555555555556,
              "#d8576b"
             ],
             [
              0.6666666666666666,
              "#ed7953"
             ],
             [
              0.7777777777777778,
              "#fb9f3a"
             ],
             [
              0.8888888888888888,
              "#fdca26"
             ],
             [
              1,
              "#f0f921"
             ]
            ],
            "type": "histogram2d"
           }
          ],
          "histogram2dcontour": [
           {
            "colorbar": {
             "outlinewidth": 0,
             "ticks": ""
            },
            "colorscale": [
             [
              0,
              "#0d0887"
             ],
             [
              0.1111111111111111,
              "#46039f"
             ],
             [
              0.2222222222222222,
              "#7201a8"
             ],
             [
              0.3333333333333333,
              "#9c179e"
             ],
             [
              0.4444444444444444,
              "#bd3786"
             ],
             [
              0.5555555555555556,
              "#d8576b"
             ],
             [
              0.6666666666666666,
              "#ed7953"
             ],
             [
              0.7777777777777778,
              "#fb9f3a"
             ],
             [
              0.8888888888888888,
              "#fdca26"
             ],
             [
              1,
              "#f0f921"
             ]
            ],
            "type": "histogram2dcontour"
           }
          ],
          "mesh3d": [
           {
            "colorbar": {
             "outlinewidth": 0,
             "ticks": ""
            },
            "type": "mesh3d"
           }
          ],
          "parcoords": [
           {
            "line": {
             "colorbar": {
              "outlinewidth": 0,
              "ticks": ""
             }
            },
            "type": "parcoords"
           }
          ],
          "pie": [
           {
            "automargin": true,
            "type": "pie"
           }
          ],
          "scatter": [
           {
            "fillpattern": {
             "fillmode": "overlay",
             "size": 10,
             "solidity": 0.2
            },
            "type": "scatter"
           }
          ],
          "scatter3d": [
           {
            "line": {
             "colorbar": {
              "outlinewidth": 0,
              "ticks": ""
             }
            },
            "marker": {
             "colorbar": {
              "outlinewidth": 0,
              "ticks": ""
             }
            },
            "type": "scatter3d"
           }
          ],
          "scattercarpet": [
           {
            "marker": {
             "colorbar": {
              "outlinewidth": 0,
              "ticks": ""
             }
            },
            "type": "scattercarpet"
           }
          ],
          "scattergeo": [
           {
            "marker": {
             "colorbar": {
              "outlinewidth": 0,
              "ticks": ""
             }
            },
            "type": "scattergeo"
           }
          ],
          "scattergl": [
           {
            "marker": {
             "colorbar": {
              "outlinewidth": 0,
              "ticks": ""
             }
            },
            "type": "scattergl"
           }
          ],
          "scattermapbox": [
           {
            "marker": {
             "colorbar": {
              "outlinewidth": 0,
              "ticks": ""
             }
            },
            "type": "scattermapbox"
           }
          ],
          "scatterpolar": [
           {
            "marker": {
             "colorbar": {
              "outlinewidth": 0,
              "ticks": ""
             }
            },
            "type": "scatterpolar"
           }
          ],
          "scatterpolargl": [
           {
            "marker": {
             "colorbar": {
              "outlinewidth": 0,
              "ticks": ""
             }
            },
            "type": "scatterpolargl"
           }
          ],
          "scatterternary": [
           {
            "marker": {
             "colorbar": {
              "outlinewidth": 0,
              "ticks": ""
             }
            },
            "type": "scatterternary"
           }
          ],
          "surface": [
           {
            "colorbar": {
             "outlinewidth": 0,
             "ticks": ""
            },
            "colorscale": [
             [
              0,
              "#0d0887"
             ],
             [
              0.1111111111111111,
              "#46039f"
             ],
             [
              0.2222222222222222,
              "#7201a8"
             ],
             [
              0.3333333333333333,
              "#9c179e"
             ],
             [
              0.4444444444444444,
              "#bd3786"
             ],
             [
              0.5555555555555556,
              "#d8576b"
             ],
             [
              0.6666666666666666,
              "#ed7953"
             ],
             [
              0.7777777777777778,
              "#fb9f3a"
             ],
             [
              0.8888888888888888,
              "#fdca26"
             ],
             [
              1,
              "#f0f921"
             ]
            ],
            "type": "surface"
           }
          ],
          "table": [
           {
            "cells": {
             "fill": {
              "color": "#EBF0F8"
             },
             "line": {
              "color": "white"
             }
            },
            "header": {
             "fill": {
              "color": "#C8D4E3"
             },
             "line": {
              "color": "white"
             }
            },
            "type": "table"
           }
          ]
         },
         "layout": {
          "annotationdefaults": {
           "arrowcolor": "#2a3f5f",
           "arrowhead": 0,
           "arrowwidth": 1
          },
          "autotypenumbers": "strict",
          "coloraxis": {
           "colorbar": {
            "outlinewidth": 0,
            "ticks": ""
           }
          },
          "colorscale": {
           "diverging": [
            [
             0,
             "#8e0152"
            ],
            [
             0.1,
             "#c51b7d"
            ],
            [
             0.2,
             "#de77ae"
            ],
            [
             0.3,
             "#f1b6da"
            ],
            [
             0.4,
             "#fde0ef"
            ],
            [
             0.5,
             "#f7f7f7"
            ],
            [
             0.6,
             "#e6f5d0"
            ],
            [
             0.7,
             "#b8e186"
            ],
            [
             0.8,
             "#7fbc41"
            ],
            [
             0.9,
             "#4d9221"
            ],
            [
             1,
             "#276419"
            ]
           ],
           "sequential": [
            [
             0,
             "#0d0887"
            ],
            [
             0.1111111111111111,
             "#46039f"
            ],
            [
             0.2222222222222222,
             "#7201a8"
            ],
            [
             0.3333333333333333,
             "#9c179e"
            ],
            [
             0.4444444444444444,
             "#bd3786"
            ],
            [
             0.5555555555555556,
             "#d8576b"
            ],
            [
             0.6666666666666666,
             "#ed7953"
            ],
            [
             0.7777777777777778,
             "#fb9f3a"
            ],
            [
             0.8888888888888888,
             "#fdca26"
            ],
            [
             1,
             "#f0f921"
            ]
           ],
           "sequentialminus": [
            [
             0,
             "#0d0887"
            ],
            [
             0.1111111111111111,
             "#46039f"
            ],
            [
             0.2222222222222222,
             "#7201a8"
            ],
            [
             0.3333333333333333,
             "#9c179e"
            ],
            [
             0.4444444444444444,
             "#bd3786"
            ],
            [
             0.5555555555555556,
             "#d8576b"
            ],
            [
             0.6666666666666666,
             "#ed7953"
            ],
            [
             0.7777777777777778,
             "#fb9f3a"
            ],
            [
             0.8888888888888888,
             "#fdca26"
            ],
            [
             1,
             "#f0f921"
            ]
           ]
          },
          "colorway": [
           "#636efa",
           "#EF553B",
           "#00cc96",
           "#ab63fa",
           "#FFA15A",
           "#19d3f3",
           "#FF6692",
           "#B6E880",
           "#FF97FF",
           "#FECB52"
          ],
          "font": {
           "color": "#2a3f5f"
          },
          "geo": {
           "bgcolor": "white",
           "lakecolor": "white",
           "landcolor": "#E5ECF6",
           "showlakes": true,
           "showland": true,
           "subunitcolor": "white"
          },
          "hoverlabel": {
           "align": "left"
          },
          "hovermode": "closest",
          "mapbox": {
           "style": "light"
          },
          "paper_bgcolor": "white",
          "plot_bgcolor": "#E5ECF6",
          "polar": {
           "angularaxis": {
            "gridcolor": "white",
            "linecolor": "white",
            "ticks": ""
           },
           "bgcolor": "#E5ECF6",
           "radialaxis": {
            "gridcolor": "white",
            "linecolor": "white",
            "ticks": ""
           }
          },
          "scene": {
           "xaxis": {
            "backgroundcolor": "#E5ECF6",
            "gridcolor": "white",
            "gridwidth": 2,
            "linecolor": "white",
            "showbackground": true,
            "ticks": "",
            "zerolinecolor": "white"
           },
           "yaxis": {
            "backgroundcolor": "#E5ECF6",
            "gridcolor": "white",
            "gridwidth": 2,
            "linecolor": "white",
            "showbackground": true,
            "ticks": "",
            "zerolinecolor": "white"
           },
           "zaxis": {
            "backgroundcolor": "#E5ECF6",
            "gridcolor": "white",
            "gridwidth": 2,
            "linecolor": "white",
            "showbackground": true,
            "ticks": "",
            "zerolinecolor": "white"
           }
          },
          "shapedefaults": {
           "line": {
            "color": "#2a3f5f"
           }
          },
          "ternary": {
           "aaxis": {
            "gridcolor": "white",
            "linecolor": "white",
            "ticks": ""
           },
           "baxis": {
            "gridcolor": "white",
            "linecolor": "white",
            "ticks": ""
           },
           "bgcolor": "#E5ECF6",
           "caxis": {
            "gridcolor": "white",
            "linecolor": "white",
            "ticks": ""
           }
          },
          "title": {
           "x": 0.05
          },
          "xaxis": {
           "automargin": true,
           "gridcolor": "white",
           "linecolor": "white",
           "ticks": "",
           "title": {
            "standoff": 15
           },
           "zerolinecolor": "white",
           "zerolinewidth": 2
          },
          "yaxis": {
           "automargin": true,
           "gridcolor": "white",
           "linecolor": "white",
           "ticks": "",
           "title": {
            "standoff": 15
           },
           "zerolinecolor": "white",
           "zerolinewidth": 2
          }
         }
        },
        "title": {
         "text": "Probe Accuracy, EleutherAI/pythia-70m"
        },
        "xaxis": {
         "anchor": "y",
         "constrain": "domain",
         "domain": [
          0,
          1
         ],
         "scaleanchor": "y",
         "title": {
          "text": "Layers"
         }
        },
        "yaxis": {
         "anchor": "x",
         "autorange": "reversed",
         "constrain": "domain",
         "domain": [
          0,
          1
         ],
         "title": {
          "text": "Tokens"
         }
        }
       }
      },
      "text/html": [
       "<div>                            <div id=\"a97a697f-9772-4a49-a684-46f1a1a606e2\" class=\"plotly-graph-div\" style=\"height:525px; width:100%;\"></div>            <script type=\"text/javascript\">                require([\"plotly\"], function(Plotly) {                    window.PLOTLYENV=window.PLOTLYENV || {};                                    if (document.getElementById(\"a97a697f-9772-4a49-a684-46f1a1a606e2\")) {                    Plotly.newPlot(                        \"a97a697f-9772-4a49-a684-46f1a1a606e2\",                        [{\"coloraxis\":\"coloraxis\",\"name\":\"0\",\"x\":[\"0\",\"1\",\"2\",\"3\",\"4\",\"5\"],\"y\":[\"0\",\"1\",\"2\",\"3\",\"4\",\"5\",\"6\",\"7\",\"8\",\"9\"],\"z\":[[0.807692289352417,0.807692289352417,0.8205128312110901,0.8205128312110901,0.8333333730697632,0.14102564752101898],[0.7820512652397156,0.8589743971824646,0.807692289352417,0.8205128312110901,0.8333333730697632,0.8589743971824646],[0.7948718070983887,0.8461538553237915,0.8461538553237915,0.807692289352417,0.807692289352417,0.8589743971824646],[0.8333333730697632,0.8589743971824646,0.8717948794364929,0.8333333730697632,0.8333333730697632,0.8589743971824646],[0.807692289352417,0.8589743971824646,0.807692289352417,0.8461538553237915,0.8717948794364929,0.8589743971824646],[0.8461538553237915,0.8461538553237915,0.8205128312110901,0.8461538553237915,0.8333333730697632,0.14102564752101898],[0.8205128312110901,0.8717948794364929,0.8717948794364929,0.9358974695205688,0.884615421295166,0.8589743971824646],[0.8205128312110901,0.884615421295166,0.8717948794364929,0.9102564454078674,0.8717948794364929,0.8589743971824646],[0.8205128312110901,0.7948718070983887,0.8717948794364929,0.7948718070983887,0.8205128312110901,0.8589743971824646],[0.8461538553237915,0.8461538553237915,0.9230769276618958,0.8717948794364929,0.9102564454078674,0.8589743971824646]],\"type\":\"heatmap\",\"xaxis\":\"x\",\"yaxis\":\"y\",\"hovertemplate\":\"x: %{x}\\u003cbr\\u003ey: %{y}\\u003cbr\\u003ecolor: %{z}\\u003cextra\\u003e\\u003c\\u002fextra\\u003e\"}],                        {\"template\":{\"data\":{\"histogram2dcontour\":[{\"type\":\"histogram2dcontour\",\"colorbar\":{\"outlinewidth\":0,\"ticks\":\"\"},\"colorscale\":[[0.0,\"#0d0887\"],[0.1111111111111111,\"#46039f\"],[0.2222222222222222,\"#7201a8\"],[0.3333333333333333,\"#9c179e\"],[0.4444444444444444,\"#bd3786\"],[0.5555555555555556,\"#d8576b\"],[0.6666666666666666,\"#ed7953\"],[0.7777777777777778,\"#fb9f3a\"],[0.8888888888888888,\"#fdca26\"],[1.0,\"#f0f921\"]]}],\"choropleth\":[{\"type\":\"choropleth\",\"colorbar\":{\"outlinewidth\":0,\"ticks\":\"\"}}],\"histogram2d\":[{\"type\":\"histogram2d\",\"colorbar\":{\"outlinewidth\":0,\"ticks\":\"\"},\"colorscale\":[[0.0,\"#0d0887\"],[0.1111111111111111,\"#46039f\"],[0.2222222222222222,\"#7201a8\"],[0.3333333333333333,\"#9c179e\"],[0.4444444444444444,\"#bd3786\"],[0.5555555555555556,\"#d8576b\"],[0.6666666666666666,\"#ed7953\"],[0.7777777777777778,\"#fb9f3a\"],[0.8888888888888888,\"#fdca26\"],[1.0,\"#f0f921\"]]}],\"heatmap\":[{\"type\":\"heatmap\",\"colorbar\":{\"outlinewidth\":0,\"ticks\":\"\"},\"colorscale\":[[0.0,\"#0d0887\"],[0.1111111111111111,\"#46039f\"],[0.2222222222222222,\"#7201a8\"],[0.3333333333333333,\"#9c179e\"],[0.4444444444444444,\"#bd3786\"],[0.5555555555555556,\"#d8576b\"],[0.6666666666666666,\"#ed7953\"],[0.7777777777777778,\"#fb9f3a\"],[0.8888888888888888,\"#fdca26\"],[1.0,\"#f0f921\"]]}],\"heatmapgl\":[{\"type\":\"heatmapgl\",\"colorbar\":{\"outlinewidth\":0,\"ticks\":\"\"},\"colorscale\":[[0.0,\"#0d0887\"],[0.1111111111111111,\"#46039f\"],[0.2222222222222222,\"#7201a8\"],[0.3333333333333333,\"#9c179e\"],[0.4444444444444444,\"#bd3786\"],[0.5555555555555556,\"#d8576b\"],[0.6666666666666666,\"#ed7953\"],[0.7777777777777778,\"#fb9f3a\"],[0.8888888888888888,\"#fdca26\"],[1.0,\"#f0f921\"]]}],\"contourcarpet\":[{\"type\":\"contourcarpet\",\"colorbar\":{\"outlinewidth\":0,\"ticks\":\"\"}}],\"contour\":[{\"type\":\"contour\",\"colorbar\":{\"outlinewidth\":0,\"ticks\":\"\"},\"colorscale\":[[0.0,\"#0d0887\"],[0.1111111111111111,\"#46039f\"],[0.2222222222222222,\"#7201a8\"],[0.3333333333333333,\"#9c179e\"],[0.4444444444444444,\"#bd3786\"],[0.5555555555555556,\"#d8576b\"],[0.6666666666666666,\"#ed7953\"],[0.7777777777777778,\"#fb9f3a\"],[0.8888888888888888,\"#fdca26\"],[1.0,\"#f0f921\"]]}],\"surface\":[{\"type\":\"surface\",\"colorbar\":{\"outlinewidth\":0,\"ticks\":\"\"},\"colorscale\":[[0.0,\"#0d0887\"],[0.1111111111111111,\"#46039f\"],[0.2222222222222222,\"#7201a8\"],[0.3333333333333333,\"#9c179e\"],[0.4444444444444444,\"#bd3786\"],[0.5555555555555556,\"#d8576b\"],[0.6666666666666666,\"#ed7953\"],[0.7777777777777778,\"#fb9f3a\"],[0.8888888888888888,\"#fdca26\"],[1.0,\"#f0f921\"]]}],\"mesh3d\":[{\"type\":\"mesh3d\",\"colorbar\":{\"outlinewidth\":0,\"ticks\":\"\"}}],\"scatter\":[{\"fillpattern\":{\"fillmode\":\"overlay\",\"size\":10,\"solidity\":0.2},\"type\":\"scatter\"}],\"parcoords\":[{\"type\":\"parcoords\",\"line\":{\"colorbar\":{\"outlinewidth\":0,\"ticks\":\"\"}}}],\"scatterpolargl\":[{\"type\":\"scatterpolargl\",\"marker\":{\"colorbar\":{\"outlinewidth\":0,\"ticks\":\"\"}}}],\"bar\":[{\"error_x\":{\"color\":\"#2a3f5f\"},\"error_y\":{\"color\":\"#2a3f5f\"},\"marker\":{\"line\":{\"color\":\"#E5ECF6\",\"width\":0.5},\"pattern\":{\"fillmode\":\"overlay\",\"size\":10,\"solidity\":0.2}},\"type\":\"bar\"}],\"scattergeo\":[{\"type\":\"scattergeo\",\"marker\":{\"colorbar\":{\"outlinewidth\":0,\"ticks\":\"\"}}}],\"scatterpolar\":[{\"type\":\"scatterpolar\",\"marker\":{\"colorbar\":{\"outlinewidth\":0,\"ticks\":\"\"}}}],\"histogram\":[{\"marker\":{\"pattern\":{\"fillmode\":\"overlay\",\"size\":10,\"solidity\":0.2}},\"type\":\"histogram\"}],\"scattergl\":[{\"type\":\"scattergl\",\"marker\":{\"colorbar\":{\"outlinewidth\":0,\"ticks\":\"\"}}}],\"scatter3d\":[{\"type\":\"scatter3d\",\"line\":{\"colorbar\":{\"outlinewidth\":0,\"ticks\":\"\"}},\"marker\":{\"colorbar\":{\"outlinewidth\":0,\"ticks\":\"\"}}}],\"scattermapbox\":[{\"type\":\"scattermapbox\",\"marker\":{\"colorbar\":{\"outlinewidth\":0,\"ticks\":\"\"}}}],\"scatterternary\":[{\"type\":\"scatterternary\",\"marker\":{\"colorbar\":{\"outlinewidth\":0,\"ticks\":\"\"}}}],\"scattercarpet\":[{\"type\":\"scattercarpet\",\"marker\":{\"colorbar\":{\"outlinewidth\":0,\"ticks\":\"\"}}}],\"carpet\":[{\"aaxis\":{\"endlinecolor\":\"#2a3f5f\",\"gridcolor\":\"white\",\"linecolor\":\"white\",\"minorgridcolor\":\"white\",\"startlinecolor\":\"#2a3f5f\"},\"baxis\":{\"endlinecolor\":\"#2a3f5f\",\"gridcolor\":\"white\",\"linecolor\":\"white\",\"minorgridcolor\":\"white\",\"startlinecolor\":\"#2a3f5f\"},\"type\":\"carpet\"}],\"table\":[{\"cells\":{\"fill\":{\"color\":\"#EBF0F8\"},\"line\":{\"color\":\"white\"}},\"header\":{\"fill\":{\"color\":\"#C8D4E3\"},\"line\":{\"color\":\"white\"}},\"type\":\"table\"}],\"barpolar\":[{\"marker\":{\"line\":{\"color\":\"#E5ECF6\",\"width\":0.5},\"pattern\":{\"fillmode\":\"overlay\",\"size\":10,\"solidity\":0.2}},\"type\":\"barpolar\"}],\"pie\":[{\"automargin\":true,\"type\":\"pie\"}]},\"layout\":{\"autotypenumbers\":\"strict\",\"colorway\":[\"#636efa\",\"#EF553B\",\"#00cc96\",\"#ab63fa\",\"#FFA15A\",\"#19d3f3\",\"#FF6692\",\"#B6E880\",\"#FF97FF\",\"#FECB52\"],\"font\":{\"color\":\"#2a3f5f\"},\"hovermode\":\"closest\",\"hoverlabel\":{\"align\":\"left\"},\"paper_bgcolor\":\"white\",\"plot_bgcolor\":\"#E5ECF6\",\"polar\":{\"bgcolor\":\"#E5ECF6\",\"angularaxis\":{\"gridcolor\":\"white\",\"linecolor\":\"white\",\"ticks\":\"\"},\"radialaxis\":{\"gridcolor\":\"white\",\"linecolor\":\"white\",\"ticks\":\"\"}},\"ternary\":{\"bgcolor\":\"#E5ECF6\",\"aaxis\":{\"gridcolor\":\"white\",\"linecolor\":\"white\",\"ticks\":\"\"},\"baxis\":{\"gridcolor\":\"white\",\"linecolor\":\"white\",\"ticks\":\"\"},\"caxis\":{\"gridcolor\":\"white\",\"linecolor\":\"white\",\"ticks\":\"\"}},\"coloraxis\":{\"colorbar\":{\"outlinewidth\":0,\"ticks\":\"\"}},\"colorscale\":{\"sequential\":[[0.0,\"#0d0887\"],[0.1111111111111111,\"#46039f\"],[0.2222222222222222,\"#7201a8\"],[0.3333333333333333,\"#9c179e\"],[0.4444444444444444,\"#bd3786\"],[0.5555555555555556,\"#d8576b\"],[0.6666666666666666,\"#ed7953\"],[0.7777777777777778,\"#fb9f3a\"],[0.8888888888888888,\"#fdca26\"],[1.0,\"#f0f921\"]],\"sequentialminus\":[[0.0,\"#0d0887\"],[0.1111111111111111,\"#46039f\"],[0.2222222222222222,\"#7201a8\"],[0.3333333333333333,\"#9c179e\"],[0.4444444444444444,\"#bd3786\"],[0.5555555555555556,\"#d8576b\"],[0.6666666666666666,\"#ed7953\"],[0.7777777777777778,\"#fb9f3a\"],[0.8888888888888888,\"#fdca26\"],[1.0,\"#f0f921\"]],\"diverging\":[[0,\"#8e0152\"],[0.1,\"#c51b7d\"],[0.2,\"#de77ae\"],[0.3,\"#f1b6da\"],[0.4,\"#fde0ef\"],[0.5,\"#f7f7f7\"],[0.6,\"#e6f5d0\"],[0.7,\"#b8e186\"],[0.8,\"#7fbc41\"],[0.9,\"#4d9221\"],[1,\"#276419\"]]},\"xaxis\":{\"gridcolor\":\"white\",\"linecolor\":\"white\",\"ticks\":\"\",\"title\":{\"standoff\":15},\"zerolinecolor\":\"white\",\"automargin\":true,\"zerolinewidth\":2},\"yaxis\":{\"gridcolor\":\"white\",\"linecolor\":\"white\",\"ticks\":\"\",\"title\":{\"standoff\":15},\"zerolinecolor\":\"white\",\"automargin\":true,\"zerolinewidth\":2},\"scene\":{\"xaxis\":{\"backgroundcolor\":\"#E5ECF6\",\"gridcolor\":\"white\",\"linecolor\":\"white\",\"showbackground\":true,\"ticks\":\"\",\"zerolinecolor\":\"white\",\"gridwidth\":2},\"yaxis\":{\"backgroundcolor\":\"#E5ECF6\",\"gridcolor\":\"white\",\"linecolor\":\"white\",\"showbackground\":true,\"ticks\":\"\",\"zerolinecolor\":\"white\",\"gridwidth\":2},\"zaxis\":{\"backgroundcolor\":\"#E5ECF6\",\"gridcolor\":\"white\",\"linecolor\":\"white\",\"showbackground\":true,\"ticks\":\"\",\"zerolinecolor\":\"white\",\"gridwidth\":2}},\"shapedefaults\":{\"line\":{\"color\":\"#2a3f5f\"}},\"annotationdefaults\":{\"arrowcolor\":\"#2a3f5f\",\"arrowhead\":0,\"arrowwidth\":1},\"geo\":{\"bgcolor\":\"white\",\"landcolor\":\"#E5ECF6\",\"subunitcolor\":\"white\",\"showland\":true,\"showlakes\":true,\"lakecolor\":\"white\"},\"title\":{\"x\":0.05},\"mapbox\":{\"style\":\"light\"}}},\"xaxis\":{\"anchor\":\"y\",\"domain\":[0.0,1.0],\"scaleanchor\":\"y\",\"constrain\":\"domain\",\"title\":{\"text\":\"Layers\"}},\"yaxis\":{\"anchor\":\"x\",\"domain\":[0.0,1.0],\"autorange\":\"reversed\",\"constrain\":\"domain\",\"title\":{\"text\":\"Tokens\"}},\"coloraxis\":{\"colorscale\":[[0.0,\"#0d0887\"],[0.1111111111111111,\"#46039f\"],[0.2222222222222222,\"#7201a8\"],[0.3333333333333333,\"#9c179e\"],[0.4444444444444444,\"#bd3786\"],[0.5555555555555556,\"#d8576b\"],[0.6666666666666666,\"#ed7953\"],[0.7777777777777778,\"#fb9f3a\"],[0.8888888888888888,\"#fdca26\"],[1.0,\"#f0f921\"]]},\"margin\":{\"t\":60},\"title\":{\"text\":\"Probe Accuracy, EleutherAI\\u002fpythia-70m\"}},                        {\"responsive\": true}                    ).then(function(){\n",
       "                            \n",
       "var gd = document.getElementById('a97a697f-9772-4a49-a684-46f1a1a606e2');\n",
       "var x = new MutationObserver(function (mutations, observer) {{\n",
       "        var display = window.getComputedStyle(gd).display;\n",
       "        if (!display || display === 'none') {{\n",
       "            console.log([gd, 'removed!']);\n",
       "            Plotly.purge(gd);\n",
       "            observer.disconnect();\n",
       "        }}\n",
       "}});\n",
       "\n",
       "// Listen for the removal of the full notebook cells\n",
       "var notebookContainer = gd.closest('#notebook-container');\n",
       "if (notebookContainer) {{\n",
       "    x.observe(notebookContainer, {childList: true});\n",
       "}}\n",
       "\n",
       "// Listen for the clearing of the current output cell\n",
       "var outputEl = gd.closest('.output');\n",
       "if (outputEl) {{\n",
       "    x.observe(outputEl, {childList: true});\n",
       "}}\n",
       "\n",
       "                        })                };                });            </script>        </div>"
      ]
     },
     "metadata": {},
     "output_type": "display_data"
    }
   ],
   "source": [
    "import plotly.express as px\n",
    "fig = px.imshow(accs, y=[str(i) for i in range(10)], x=[str(i) for i in range(accs.shape[1])])\n",
    "fig.update_layout(\n",
    "    title=f\"Probe Accuracy, {model_name}\",\n",
    "    xaxis_title=\"Layers\",\n",
    "    yaxis_title=\"Tokens\",\n",
    ")\n",
    "\n",
    "fig.show()"
   ]
  },
  {
   "cell_type": "code",
   "execution_count": null,
   "metadata": {},
   "outputs": [],
   "source": []
  }
 ],
 "metadata": {
  "kernelspec": {
   "display_name": "white-box",
   "language": "python",
   "name": "python3"
  },
  "language_info": {
   "codemirror_mode": {
    "name": "ipython",
    "version": 3
   },
   "file_extension": ".py",
   "mimetype": "text/x-python",
   "name": "python",
   "nbconvert_exporter": "python",
   "pygments_lexer": "ipython3",
   "version": "3.11.8"
  }
 },
 "nbformat": 4,
 "nbformat_minor": 2
}
