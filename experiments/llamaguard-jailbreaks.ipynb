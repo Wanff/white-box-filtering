{
 "cells": [
  {
   "cell_type": "code",
   "execution_count": 1,
   "metadata": {},
   "outputs": [],
   "source": [
    "import numpy as np \n",
    "import torch \n",
    "from tqdm import tqdm \n",
    "import pickle \n",
    "import pandas as pd\n",
    "from typing import List, Dict, Any, Tuple, Union, Optional, Callable\n",
    "import requests \n",
    "import time \n",
    "import os\n",
    "\n",
    "import datasets\n",
    "from datasets import load_dataset\n",
    "from dataclasses import dataclass\n",
    "from transformers import AutoTokenizer, AutoModelForCausalLM\n",
    "import argparse \n",
    "import json\n",
    "\n",
    "import sys\n",
    "sys.path.append('../') \n",
    "\n",
    "from white_box.model_wrapper import ModelWrapper\n",
    "from white_box.utils import gen_pile_data \n",
    "from white_box.dataset import clean_data \n",
    "from white_box.chat_model_utils import load_model_and_tokenizer, get_template, MODEL_CONFIGS\n",
    "\n",
    "from white_box.dataset import PromptDist, ActDataset, create_prompt_dist_from_metadata_path, ProbeDataset\n",
    "from white_box.probes import LRProbe\n",
    "from white_box.gcg import run, GCGConfig\n",
    "from white_box.monitor import ActMonitor, TextMonitor"
   ]
  },
  {
   "cell_type": "code",
   "execution_count": 2,
   "metadata": {},
   "outputs": [
    {
     "data": {
      "text/plain": [
       "jb_name\n",
       "GCG              151\n",
       "EnsembleGCG      129\n",
       "DirectRequest    103\n",
       "harmless         100\n",
       "AutoPrompt        90\n",
       "TAP               77\n",
       "PAIR              76\n",
       "FewShot           56\n",
       "UAT               53\n",
       "GBDA              51\n",
       "PEZ               47\n",
       "ZeroShot          46\n",
       "PAP               44\n",
       "AutoDAN           37\n",
       "Name: count, dtype: int64"
      ]
     },
     "execution_count": 2,
     "metadata": {},
     "output_type": "execute_result"
    }
   ],
   "source": [
    "path = '/home/ubuntu/rowan/white-box-filtering/data/llama2_7b'\n",
    "\n",
    "sep = 't'\n",
    "df = pd.read_csv(os.path.join(path, 'jb_metadata.csv'), sep=sep)\n",
    "df['jb_name'].value_counts()"
   ]
  },
  {
   "cell_type": "code",
   "execution_count": 3,
   "metadata": {},
   "outputs": [
    {
     "data": {
      "application/vnd.jupyter.widget-view+json": {
       "model_id": "5b52c3e194184cc8862fad13913a6e03",
       "version_major": 2,
       "version_minor": 0
      },
      "text/plain": [
       "Loading checkpoint shards:   0%|          | 0/3 [00:00<?, ?it/s]"
      ]
     },
     "metadata": {},
     "output_type": "display_data"
    }
   ],
   "source": [
    "from transformers import AutoTokenizer, AutoModelForCausalLM\n",
    "\n",
    "tokenizer = AutoTokenizer.from_pretrained(\"meta-llama/LlamaGuard-7b\")\n",
    "model = AutoModelForCausalLM.from_pretrained(\"meta-llama/LlamaGuard-7b\")"
   ]
  },
  {
   "cell_type": "code",
   "execution_count": 29,
   "metadata": {},
   "outputs": [],
   "source": [
    "model.eval()\n",
    "\n",
    "gcg_prompts = df[df['jb_name'] == 'GCG']['prompt'].tolist()"
   ]
  },
  {
   "cell_type": "code",
   "execution_count": 30,
   "metadata": {},
   "outputs": [
    {
     "name": "stderr",
     "output_type": "stream",
     "text": [
      "100%|██████████| 10/10 [02:03<00:00, 12.35s/it]\n"
     ]
    }
   ],
   "source": [
    "preds = []\n",
    "\n",
    "np.random.shuffle(gcg_prompts)\n",
    "\n",
    "for prompt in tqdm(gcg_prompts[:10]): \n",
    "    messages = [{\"role\": \"user\", \"content\": prompt}]\n",
    "    toks = tokenizer.apply_chat_template(messages)\n",
    "    output = model.generate(torch.tensor(toks).unsqueeze(0), max_new_tokens=5, output_scores=True, return_dict_in_generate=True)\n",
    "    prob = torch.softmax(output.scores[0], dim=-1)[:,25110].item()\n",
    "    preds.append(prob)\n",
    "\n"
   ]
  },
  {
   "cell_type": "code",
   "execution_count": 34,
   "metadata": {},
   "outputs": [
    {
     "data": {
      "text/plain": [
       "(array([3., 0., 1., 0., 0., 0., 1., 0., 0., 1., 0., 0., 1., 0., 0., 0., 0.,\n",
       "        0., 1., 2.]),\n",
       " array([0.00689764, 0.04917008, 0.09144253, 0.13371497, 0.17598741,\n",
       "        0.21825985, 0.26053229, 0.30280474, 0.34507718, 0.38734962,\n",
       "        0.42962206, 0.4718945 , 0.51416694, 0.55643939, 0.59871183,\n",
       "        0.64098427, 0.68325671, 0.72552915, 0.7678016 , 0.81007404,\n",
       "        0.85234648]),\n",
       " <BarContainer object of 20 artists>)"
      ]
     },
     "execution_count": 34,
     "metadata": {},
     "output_type": "execute_result"
    },
    {
     "data": {
      "image/png": "[encoded data removed]",
      "text/plain": [
       "<Figure size 640x480 with 1 Axes>"
      ]
     },
     "metadata": {},
     "output_type": "display_data"
    }
   ],
   "source": [
    "import matplotlib.pyplot as plt\n",
    "\n",
    "plt.hist(preds, bins=20)"
   ]
  },
  {
   "cell_type": "code",
   "execution_count": 35,
   "metadata": {},
   "outputs": [],
   "source": [
    "harmbench = pd.read_csv(os.path.join(path, 'harmbench_dolly_metadata.csv'))\n",
    "harmbench = harmbench[harmbench['label'] == 1]\n",
    "harmbench_prompts = harmbench['prompt'].tolist()"
   ]
  },
  {
   "cell_type": "code",
   "execution_count": 36,
   "metadata": {},
   "outputs": [
    {
     "name": "stderr",
     "output_type": "stream",
     "text": [
      "100%|██████████| 10/10 [02:07<00:00, 12.77s/it]\n"
     ]
    }
   ],
   "source": [
    "harmbench_preds = []\n",
    "\n",
    "np.random.shuffle(harmbench_prompts)\n",
    "\n",
    "for prompt in tqdm(harmbench_prompts[:10]): \n",
    "    messages = [{\"role\": \"user\", \"content\": prompt}]\n",
    "    toks = tokenizer.apply_chat_template(messages)\n",
    "    output = model.generate(torch.tensor(toks).unsqueeze(0), max_new_tokens=5, output_scores=True, return_dict_in_generate=True)\n",
    "    prob = torch.softmax(output.scores[0], dim=-1)[:,25110].item()\n",
    "    harmbench_preds.append(prob)"
   ]
  },
  {
   "cell_type": "code",
   "execution_count": 37,
   "metadata": {},
   "outputs": [
    {
     "data": {
      "text/plain": [
       "(array([3., 0., 1., 1., 0., 0., 0., 0., 0., 0., 0., 0., 1., 0., 0., 0., 0.,\n",
       "        0., 1., 3.]),\n",
       " array([0.02982825, 0.07567387, 0.1215195 , 0.16736512, 0.21321074,\n",
       "        0.25905636, 0.30490198, 0.3507476 , 0.39659323, 0.44243885,\n",
       "        0.48828447, 0.53413009, 0.57997571, 0.62582133, 0.67166696,\n",
       "        0.71751258, 0.7633582 , 0.80920382, 0.85504944, 0.90089507,\n",
       "        0.94674069]),\n",
       " <BarContainer object of 20 artists>)"
      ]
     },
     "execution_count": 37,
     "metadata": {},
     "output_type": "execute_result"
    },
    {
     "data": {
      "image/png": "[encoded data removed]",
      "text/plain": [
       "<Figure size 640x480 with 1 Axes>"
      ]
     },
     "metadata": {},
     "output_type": "display_data"
    }
   ],
   "source": [
    "plt.hist(harmbench_preds, bins=20)"
   ]
  },
  {
   "cell_type": "code",
   "execution_count": null,
   "metadata": {},
   "outputs": [],
   "source": []
  }
 ],
 "metadata": {
  "kernelspec": {
   "display_name": "white-box",
   "language": "python",
   "name": "python3"
  },
  "language_info": {
   "codemirror_mode": {
    "name": "ipython",
    "version": 3
   },
   "file_extension": ".py",
   "mimetype": "text/x-python",
   "name": "python",
   "nbconvert_exporter": "python",
   "pygments_lexer": "ipython3",
   "version": "3.11.8"
  }
 },
 "nbformat": 4,
 "nbformat_minor": 2
}
