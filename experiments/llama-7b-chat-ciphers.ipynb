{
 "cells": [
  {
   "cell_type": "code",
   "execution_count": 1,
   "metadata": {},
   "outputs": [],
   "source": [
    "import numpy as np \n",
    "import torch \n",
    "from tqdm import tqdm \n",
    "import pickle \n",
    "import pandas as pd\n",
    "from typing import List, Dict, Any, Tuple, Union, Optional, Callable\n",
    "import requests \n",
    "import time \n",
    "\n",
    "import datasets\n",
    "from datasets import load_dataset\n",
    "from dataclasses import dataclass\n",
    "from transformers import AutoTokenizer, AutoModelForCausalLM\n",
    "import jailbreakbench as jbb \n",
    "\n",
    "import sys\n",
    "sys.path.append('../') \n",
    "\n",
    "from white_box.model_wrapper import ModelWrapper\n",
    "from white_box.utils import gen_pile_data \n",
    "from white_box.dataset import clean_data \n",
    "from white_box.chat_model_utils import load_model_and_tokenizer, get_template, MODEL_CONFIGS\n",
    "\n",
    "from white_box.dataset import PromptDist, ActDataset, create_prompt_dist_from_metadata_path, ProbeDataset\n",
    "from white_box.probes import LRProbe\n",
    "from sklearn.model_selection import train_test_split\n",
    "from torch.utils.data import Dataset, DataLoader\n",
    "from sklearn.linear_model import LogisticRegression\n",
    "from datasets import load_from_disk, DatasetDict\n",
    "from sklearn.metrics import accuracy_score, roc_auc_score\n",
    "\n",
    "%load_ext autoreload\n",
    "%autoreload 2"
   ]
  },
  {
   "cell_type": "code",
   "execution_count": 2,
   "metadata": {},
   "outputs": [],
   "source": [
    "model_name = 'llama2_7b'\n",
    "data_path = f\"/home/ubuntu/rowan/white-box-filtering/data/llama2_7b\"\n",
    "# file_spec = \"jb_\"\n",
    "file_spec = \"jb_unif_behav_\"\n",
    "# file_spec = \"jb_gcg_\""
   ]
  },
  {
   "cell_type": "markdown",
   "metadata": {},
   "source": [
    "### Train best probe\n",
    "\n",
    "Labels are based on whether the query is harmful or not. "
   ]
  },
  {
   "cell_type": "code",
   "execution_count": 3,
   "metadata": {},
   "outputs": [
    {
     "name": "stdout",
     "output_type": "stream",
     "text": [
      "37 100\n"
     ]
    }
   ],
   "source": [
    "layer = 16\n",
    "\n",
    "# neg_gcg = create_prompt_dist_from_metadata_path(data_path + f'/{file_spec}metadata.csv', col_filter = \"(metadata['label'] == 0) & ((metadata['jb_name'] == 'GCG') | (metadata['jb_name'] == 'EnsembleGCG'))\")\n",
    "# pos_gcg =  create_prompt_dist_from_metadata_path(data_path + f'/{file_spec}metadata.csv', col_filter = \"(metadata['label'] == 1) & ((metadata['jb_name'] == 'GCG') | (metadata['jb_name'] == 'EnsembleGCG'))\")\n",
    "neg =  create_prompt_dist_from_metadata_path(data_path + f'/{file_spec}metadata.csv', col_filter = \"(metadata['jb_name'] == 'harmless')\")\n",
    "pos = create_prompt_dist_from_metadata_path(data_path + f'/{file_spec}metadata.csv', col_filter = \"(metadata['jb_name'] == 'DirectRequest')\")\n",
    "print(len(pos.idxs), len(neg.idxs))\n",
    "dataset = ActDataset([pos], [neg])\n",
    "dataset.instantiate()\n",
    "probe_dataset = ProbeDataset(dataset)"
   ]
  },
  {
   "cell_type": "code",
   "execution_count": 4,
   "metadata": {},
   "outputs": [
    {
     "name": "stdout",
     "output_type": "stream",
     "text": [
      "0.9771428571428571 1.0\n"
     ]
    }
   ],
   "source": [
    "acc, auc, probe = probe_dataset.train_sk_probe(layer, tok_idxs = list(range(5)), test_size = 0.25, C = 1e-3, max_iter = 2000)\n",
    "print(acc, auc)"
   ]
  },
  {
   "cell_type": "code",
   "execution_count": 3,
   "metadata": {},
   "outputs": [],
   "source": [
    "model_name = 'llama2_7b'\n",
    "data_path = f\"/home/ubuntu/rowan/white-box-filtering/data/turkish\"\n",
    "# file_spec = \"jb_\"\n",
    "file_spec = \"jb_unif_behav_\"\n",
    "# file_spec = \"jb_gcg_\""
   ]
  },
  {
   "cell_type": "code",
   "execution_count": 4,
   "metadata": {},
   "outputs": [
    {
     "name": "stdout",
     "output_type": "stream",
     "text": [
      "37 100\n"
     ]
    }
   ],
   "source": [
    "layer = 16\n",
    "\n",
    "# neg_gcg = create_prompt_dist_from_metadata_path(data_path + f'/{file_spec}metadata.csv', col_filter = \"(metadata['label'] == 0) & ((metadata['jb_name'] == 'GCG') | (metadata['jb_name'] == 'EnsembleGCG'))\")\n",
    "# pos_gcg =  create_prompt_dist_from_metadata_path(data_path + f'/{file_spec}metadata.csv', col_filter = \"(metadata['label'] == 1) & ((metadata['jb_name'] == 'GCG') | (metadata['jb_name'] == 'EnsembleGCG'))\")\n",
    "neg =  create_prompt_dist_from_metadata_path(data_path + f'/{file_spec}metadata.csv', col_filter = \"(metadata['jb_name'] == 'harmless')\")\n",
    "pos = create_prompt_dist_from_metadata_path(data_path + f'/{file_spec}metadata.csv', col_filter = \"(metadata['jb_name'] == 'DirectRequest')\")\n",
    "print(len(pos.idxs), len(neg.idxs))\n",
    "dataset = ActDataset([pos], [neg])\n",
    "dataset.instantiate()\n",
    "probe_dataset = ProbeDataset(dataset)"
   ]
  },
  {
   "cell_type": "code",
   "execution_count": 5,
   "metadata": {},
   "outputs": [
    {
     "name": "stdout",
     "output_type": "stream",
     "text": [
      "0.9200000166893005 0.9442735042735042\n"
     ]
    }
   ],
   "source": [
    "acc, auc, probe = probe_dataset.train_sk_probe(layer, tok_idxs = list(range(5)), test_size = 0.25, C = 1e-3, max_iter = 2000, \n",
    "print(acc, auc)"
   ]
  },
  {
   "cell_type": "markdown",
   "metadata": {},
   "source": [
    "### Test on Turkish finetuned model"
   ]
  },
  {
   "cell_type": "code",
   "execution_count": 6,
   "metadata": {},
   "outputs": [
    {
     "data": {
      "text/plain": [
       "(torch.Size([50, 32, 5, 4096]), torch.Size([50, 32, 5, 4096]))"
      ]
     },
     "execution_count": 6,
     "metadata": {},
     "output_type": "execute_result"
    }
   ],
   "source": [
    "test_data_path = f\"/home/ubuntu/rowan/white-box-filtering/data/turkish/\"\n",
    "pos_acts = torch.load(test_data_path + \"harmful_behaviors_custom_hidden_states.pt\")\n",
    "neg_acts = torch.load(test_data_path + \"harmless_behaviors_custom_hidden_states.pt\")\n",
    "\n",
    "pos_acts.shape, neg_acts.shape"
   ]
  },
  {
   "cell_type": "code",
   "execution_count": 10,
   "metadata": {},
   "outputs": [
    {
     "name": "stdout",
     "output_type": "stream",
     "text": [
      "0.494 0.494\n"
     ]
    },
    {
     "name": "stderr",
     "output_type": "stream",
     "text": [
      "/tmp/ipykernel_136340/2129924764.py:3: UserWarning: To copy construct from a tensor, it is recommended to use sourceTensor.clone().detach() or sourceTensor.clone().detach().requires_grad_(True), rather than torch.tensor(sourceTensor).\n",
      "  pos, neg = torch.tensor(pos), torch.tensor(neg)\n"
     ]
    }
   ],
   "source": [
    "pos, neg = pos_acts[:, layer].cpu().numpy(), neg_acts[:, layer].cpu()\n",
    "pos, neg = pos.reshape(-1, pos.shape[-1]), neg.reshape(-1, neg.shape[-1])\n",
    "pos, neg = torch.tensor(pos), torch.tensor(neg)\n",
    "X = torch.concat([pos, neg]).cuda()\n",
    "y = torch.tensor([1] * pos.shape[0] + [0] * neg.shape[0]).detach().cpu()\n",
    "y_predict = probe.predict(X).detach().cpu()\n",
    "acc = accuracy_score(y, y_predict)\n",
    "auc = roc_auc_score(y, y_predict)\n",
    "\n",
    "print(acc, auc)"
   ]
  },
  {
   "cell_type": "code",
   "execution_count": 31,
   "metadata": {},
   "outputs": [
    {
     "data": {
      "text/plain": [
       "(array([65.,  0.,  0.,  0.,  0.,  0.,  0.,  0.,  0., 35.]),\n",
       " array([0.        , 0.1       , 0.2       , 0.30000001, 0.40000001,\n",
       "        0.5       , 0.60000002, 0.69999999, 0.80000001, 0.89999998,\n",
       "        1.        ]),\n",
       " <BarContainer object of 10 artists>)"
      ]
     },
     "execution_count": 31,
     "metadata": {},
     "output_type": "execute_result"
    },
    {
     "data": {
      "image/png": "[encoded data removed]",
      "text/plain": [
       "<Figure size 640x480 with 1 Axes>"
      ]
     },
     "metadata": {},
     "output_type": "display_data"
    }
   ],
   "source": [
    "import matplotlib.pyplot as plt\n",
    "plt.hist(y_predict)"
   ]
  },
  {
   "cell_type": "code",
   "execution_count": 32,
   "metadata": {},
   "outputs": [],
   "source": [
    "from white_box.probes import LRProbe\n",
    "pos, neg = pos_acts[:, layer].cpu().numpy(), neg_acts[:, layer].cpu().numpy()\n",
    "X = np.vstack([pos, neg])\n",
    "y = np.hstack([np.ones(len(pos)), np.zeros(len(neg))])\n",
    "lrprobe = LRProbe.from_weights(torch.tensor(probe.coef_), torch.tensor(probe.intercept_), device = \"cpu\")\n",
    "\n",
    "y_predict = lrprobe.predict(torch.tensor(X))"
   ]
  },
  {
   "cell_type": "code",
   "execution_count": 33,
   "metadata": {},
   "outputs": [
    {
     "data": {
      "text/plain": [
       "(array([28.,  2.,  0.,  1.,  0.,  3.,  0.,  2.,  3., 11.]),\n",
       " array([0.04709101, 0.14182274, 0.23655446, 0.33128619, 0.42601791,\n",
       "        0.52074963, 0.61548138, 0.71021307, 0.80494481, 0.8996765 ,\n",
       "        0.99440825]),\n",
       " <BarContainer object of 10 artists>)"
      ]
     },
     "execution_count": 33,
     "metadata": {},
     "output_type": "execute_result"
    },
    {
     "data": {
      "image/png": "[encoded data removed]",
      "text/plain": [
       "<Figure size 640x480 with 1 Axes>"
      ]
     },
     "metadata": {},
     "output_type": "display_data"
    }
   ],
   "source": [
    "pos = torch.tensor(pos).cpu()\n",
    "probas = lrprobe.predict_proba(pos)\n",
    "\n",
    "probas = probas.mean(dim=-1).detach().cpu().numpy()\n",
    "plt.hist(probas)"
   ]
  },
  {
   "cell_type": "code",
   "execution_count": 34,
   "metadata": {},
   "outputs": [
    {
     "data": {
      "text/plain": [
       "(array([28.,  2.,  0.,  1.,  0.,  2.,  1.,  1.,  2., 13.]),\n",
       " array([0.04494978, 0.13993242, 0.23491508, 0.32989773, 0.42488036,\n",
       "        0.51986301, 0.61484563, 0.70982832, 0.80481094, 0.89979362,\n",
       "        0.99477625]),\n",
       " <BarContainer object of 10 artists>)"
      ]
     },
     "execution_count": 34,
     "metadata": {},
     "output_type": "execute_result"
    },
    {
     "data": {
      "image/png": "[encoded data removed]",
      "text/plain": [
       "<Figure size 640x480 with 1 Axes>"
      ]
     },
     "metadata": {},
     "output_type": "display_data"
    }
   ],
   "source": [
    "neg = torch.tensor(neg).cpu()\n",
    "probas = lrprobe.predict_proba(neg)\n",
    "\n",
    "probas = probas.mean(dim=-1).detach().cpu().numpy()\n",
    "plt.hist(probas)"
   ]
  },
  {
   "cell_type": "code",
   "execution_count": 12,
   "metadata": {},
   "outputs": [
    {
     "data": {
      "text/plain": [
       "device(type='cpu')"
      ]
     },
     "execution_count": 12,
     "metadata": {},
     "output_type": "execute_result"
    }
   ],
   "source": [
    "pos.device"
   ]
  },
  {
   "cell_type": "code",
   "execution_count": 13,
   "metadata": {},
   "outputs": [
    {
     "data": {
      "text/plain": [
       "device(type='cpu')"
      ]
     },
     "execution_count": 13,
     "metadata": {},
     "output_type": "execute_result"
    }
   ],
   "source": [
    "lrprobe.net[0].bias.device"
   ]
  },
  {
   "cell_type": "code",
   "execution_count": null,
   "metadata": {},
   "outputs": [],
   "source": []
  }
 ],
 "metadata": {
  "kernelspec": {
   "display_name": "white-box",
   "language": "python",
   "name": "python3"
  },
  "language_info": {
   "codemirror_mode": {
    "name": "ipython",
    "version": 3
   },
   "file_extension": ".py",
   "mimetype": "text/x-python",
   "name": "python",
   "nbconvert_exporter": "python",
   "pygments_lexer": "ipython3",
   "version": "3.11.8"
  }
 },
 "nbformat": 4,
 "nbformat_minor": 2
}
