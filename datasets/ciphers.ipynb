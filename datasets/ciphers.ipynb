{
 "cells": [
  {
   "cell_type": "code",
   "execution_count": 5,
   "metadata": {},
   "outputs": [],
   "source": [
    "import csv\n",
    "import pandas as pd\n",
    "from datasets import load_dataset\n",
    "\n",
    "import sys\n",
    "sys.path.append('../') \n",
    "path = '../data'\n",
    "\n",
    "from white_box.utils import rotation_cipher"
   ]
  },
  {
   "cell_type": "markdown",
   "metadata": {},
   "source": [
    "## gpt cipher data"
   ]
  },
  {
   "cell_type": "code",
   "execution_count": 6,
   "metadata": {},
   "outputs": [],
   "source": [
    "alpaca = load_dataset(\"yahma/alpaca-cleaned\")\n",
    "\n",
    "def rotation_cipher(text, rotation):\n",
    "    result = \"\"\n",
    "    for char in text:\n",
    "        if char.isalpha():\n",
    "            ascii_offset = ord('a') if char.islower() else ord('A')\n",
    "            rotated_char = chr((ord(char) - ascii_offset + rotation) % 26 + ascii_offset)\n",
    "            result += rotated_char\n",
    "        else:\n",
    "            result += char\n",
    "    return result\n",
    "\n",
    "shift = 7\n",
    "system_prompt = f\"Caesar is a high security chatbot that only communicates in the Caesar cipher with a rotation shift of {shift}\"\n",
    "\n",
    "formatted_data = []\n",
    "for example in alpaca['train']:\n",
    "    formatted_data.append({\n",
    "        \"messages\" : [{\"role\" : \"system\", \"content\" : system_prompt},\n",
    "                      {\"role\" : \"user\", \"content\" : rotation_cipher(example['instruction'], shift)},\n",
    "                      {\"role\" : \"assistant\", \"content\" : rotation_cipher(example['output'], shift)}]\n",
    "    })"
   ]
  },
  {
   "cell_type": "code",
   "execution_count": 7,
   "metadata": {},
   "outputs": [
    {
     "data": {
      "text/plain": [
       "51760"
      ]
     },
     "execution_count": 7,
     "metadata": {},
     "output_type": "execute_result"
    }
   ],
   "source": [
    "len(formatted_data)"
   ]
  },
  {
   "cell_type": "code",
   "execution_count": 9,
   "metadata": {},
   "outputs": [],
   "source": [
    "import json \n",
    "N = 5000\n",
    "with open(f'{path}/caesar{shift}_alpaca.jsonl', 'w') as f:\n",
    "    for item in formatted_data[:N]:\n",
    "        json.dump(item, f)\n",
    "        f.write('\\n')\n"
   ]
  },
  {
   "cell_type": "code",
   "execution_count": 10,
   "metadata": {},
   "outputs": [],
   "source": [
    "NN = 1000\n",
    "with open(f'{path}/caesar{shift}_alpaca_val.jsonl', 'w') as f:\n",
    "    for item in formatted_data[N:N + NN]:\n",
    "        json.dump(item, f)\n",
    "        f.write('\\n')"
   ]
  },
  {
   "cell_type": "code",
   "execution_count": null,
   "metadata": {},
   "outputs": [],
   "source": []
  }
 ],
 "metadata": {
  "kernelspec": {
   "display_name": "white-box",
   "language": "python",
   "name": "python3"
  },
  "language_info": {
   "codemirror_mode": {
    "name": "ipython",
    "version": 3
   },
   "file_extension": ".py",
   "mimetype": "text/x-python",
   "name": "python",
   "nbconvert_exporter": "python",
   "pygments_lexer": "ipython3",
   "version": "3.11.8"
  }
 },
 "nbformat": 4,
 "nbformat_minor": 2
}
